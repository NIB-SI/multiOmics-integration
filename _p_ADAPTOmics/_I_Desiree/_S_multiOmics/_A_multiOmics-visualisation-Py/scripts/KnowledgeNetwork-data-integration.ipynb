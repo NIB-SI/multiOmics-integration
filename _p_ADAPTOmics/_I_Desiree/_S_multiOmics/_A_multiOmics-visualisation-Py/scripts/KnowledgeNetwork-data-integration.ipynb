{
 "cells": [
  {
   "cell_type": "markdown",
   "metadata": {},
   "source": [
    "# Knowledge graph data integration\n",
    "\n",
    "Overlay multi-omic data in the knwoledge network (Figure 4)"
   ]
  },
  {
   "cell_type": "markdown",
   "metadata": {},
   "source": [
    "# Setup"
   ]
  },
  {
   "cell_type": "markdown",
   "metadata": {},
   "source": [
    "## Module import"
   ]
  },
  {
   "cell_type": "code",
   "execution_count": 1,
   "metadata": {},
   "outputs": [],
   "source": [
    "# basic \n",
    "import os, io, glob, re, time, json, math\n",
    "\n",
    "from datetime import datetime\n",
    "from collections import defaultdict\n",
    "from pathlib import Path\n",
    "from contextlib import redirect_stdout, redirect_stderr\n",
    "\n",
    "# data\n",
    "import pandas as pd\n",
    "import numpy as np\n",
    "from pandas import option_context\n",
    "\n",
    "# viz\n",
    "import seaborn as sns\n",
    "import matplotlib.pyplot as plt\n",
    "import matplotlib as mpl\n",
    "\n",
    "# networks & cytoscape\n",
    "import py4cytoscape as p4c\n",
    "import networkx as nx\n",
    "\n",
    "# notebook niceties\n",
    "from IPython.display import display, Markdown, HTML"
   ]
  },
  {
   "cell_type": "markdown",
   "metadata": {},
   "source": [
    "## Settings and basic functions"
   ]
  },
  {
   "cell_type": "code",
   "execution_count": 2,
   "metadata": {},
   "outputs": [
    {
     "name": "stdout",
     "output_type": "stream",
     "text": [
      "2024-12-10\n"
     ]
    }
   ],
   "source": [
    "today = datetime.today().strftime('%Y-%m-%d'); print(today)\n",
    "fake_logger = io.StringIO()"
   ]
  },
  {
   "cell_type": "code",
   "execution_count": 3,
   "metadata": {
    "editable": true,
    "slideshow": {
     "slide_type": ""
    },
    "tags": []
   },
   "outputs": [],
   "source": [
    "def swatches(colors, sep=' ', width=6):\n",
    "    display(Markdown(sep.join(\n",
    "        f'<span style=\"font-family: monospace\">{color} <span style=\"color: {color}\">{chr(9608)*width}</span></span>'\n",
    "        for color in colors\n",
    "    )))\n",
    "    \n",
    "def display_df(df, caption=None, vmax=1, vmin=-1):\n",
    "    with option_context('display.max_colwidth', 3):\n",
    "\n",
    "\n",
    "        s = df.style.background_gradient(\n",
    "            cmap='vlag', vmax=vmax, vmin=vmin, axis=1).format(na_rep='-', precision=3)\n",
    "        s.format_index(lambda v: v[:5], axis=1)\n",
    "        s.map(lambda x: 'background: #E5E5E5' if pd.isnull(x) else '')\n",
    "        \n",
    "        if caption: \n",
    "            s.set_caption(caption)\n",
    "        \n",
    "        display(s)\n",
    "\n",
    "    return s"
   ]
  },
  {
   "cell_type": "markdown",
   "metadata": {},
   "source": [
    "## Directory paths"
   ]
  },
  {
   "cell_type": "code",
   "execution_count": 4,
   "metadata": {},
   "outputs": [],
   "source": [
    "base_dir = Path(\"..\")\n",
    "input_dir = base_dir / \"input\" \n",
    "output_dir = base_dir / \"output\" \n",
    "fig_dir = output_dir / \"figures\""
   ]
  },
  {
   "cell_type": "markdown",
   "metadata": {},
   "source": [
    "# Organise data"
   ]
  },
  {
   "cell_type": "markdown",
   "metadata": {},
   "source": [
    "## Node annotations"
   ]
  },
  {
   "cell_type": "code",
   "execution_count": 5,
   "metadata": {},
   "outputs": [],
   "source": [
    "all_days = [\n",
    "    'D08',\n",
    "    'D14',\n",
    "    'D28',\n",
    "    'H01',\n",
    "    'H07',\n",
    "    'H08',\n",
    "    'H14',\n",
    "    'H28',\n",
    "    'HD08',\n",
    "    'HD14',\n",
    "    'HD28',\n",
    "    'W01',\n",
    "    'W07',\n",
    "    'W28'\n",
    "]"
   ]
  },
  {
   "cell_type": "code",
   "execution_count": 6,
   "metadata": {},
   "outputs": [
    {
     "data": {
      "text/html": [
       "<div>\n",
       "<style scoped>\n",
       "    .dataframe tbody tr th:only-of-type {\n",
       "        vertical-align: middle;\n",
       "    }\n",
       "\n",
       "    .dataframe tbody tr th {\n",
       "        vertical-align: top;\n",
       "    }\n",
       "\n",
       "    .dataframe thead th {\n",
       "        text-align: right;\n",
       "    }\n",
       "</style>\n",
       "<table border=\"1\" class=\"dataframe\">\n",
       "  <thead>\n",
       "    <tr style=\"text-align: right;\">\n",
       "      <th></th>\n",
       "      <th>biochem_net_name</th>\n",
       "      <th>display_name</th>\n",
       "      <th>pathway</th>\n",
       "      <th>protein_name</th>\n",
       "      <th>short_name</th>\n",
       "      <th>name</th>\n",
       "      <th>group</th>\n",
       "      <th>mapman_bin</th>\n",
       "      <th>description</th>\n",
       "    </tr>\n",
       "  </thead>\n",
       "  <tbody>\n",
       "    <tr>\n",
       "      <th>94</th>\n",
       "      <td>VdnPW3_37011</td>\n",
       "      <td>CLPB4</td>\n",
       "      <td>HSP</td>\n",
       "      <td>VdnPW3_37011</td>\n",
       "      <td>CLPB4</td>\n",
       "      <td>pr.CLPB4</td>\n",
       "      <td>proteomics</td>\n",
       "      <td>[20.2.1 stress.abiotic.heat, 20.2 stress.abiot...</td>\n",
       "      <td>Chaperone protein clpB 2</td>\n",
       "    </tr>\n",
       "    <tr>\n",
       "      <th>95</th>\n",
       "      <td>VdnPW4_15664</td>\n",
       "      <td>ACA11</td>\n",
       "      <td>Ca</td>\n",
       "      <td>VdnPW4_15664</td>\n",
       "      <td>ACA11</td>\n",
       "      <td>pr.ACA11</td>\n",
       "      <td>proteomics</td>\n",
       "      <td>[34.21 transport.calcium, 30.3 signalling.calc...</td>\n",
       "      <td>Calcium-transporting ATPase 1</td>\n",
       "    </tr>\n",
       "    <tr>\n",
       "      <th>96</th>\n",
       "      <td>VdnPW4_18801</td>\n",
       "      <td>KARI</td>\n",
       "      <td>Amino</td>\n",
       "      <td>VdnPW4_18801</td>\n",
       "      <td>F14P22.200</td>\n",
       "      <td>pr.F14P22.200</td>\n",
       "      <td>proteomics</td>\n",
       "      <td>[13.1.4.1.2 amino acid metabolism.synthesis.br...</td>\n",
       "      <td>Ketol-acid reductoisomerase</td>\n",
       "    </tr>\n",
       "    <tr>\n",
       "      <th>97</th>\n",
       "      <td>VdnPW5_1541</td>\n",
       "      <td>LHCA3</td>\n",
       "      <td>PS</td>\n",
       "      <td>VdnPW5_1541</td>\n",
       "      <td>LHCA3</td>\n",
       "      <td>pr.LHCA3</td>\n",
       "      <td>proteomics</td>\n",
       "      <td>[1.1.2.1 PS.lightreaction.photosystem I.LHC-I,...</td>\n",
       "      <td>Chlorophyll a-b binding protein 8, chloroplastic</td>\n",
       "    </tr>\n",
       "    <tr>\n",
       "      <th>98</th>\n",
       "      <td>WATER.CONSUMPTION</td>\n",
       "      <td>Water consumption</td>\n",
       "      <td>NaN</td>\n",
       "      <td>NaN</td>\n",
       "      <td>NaN</td>\n",
       "      <td>ph.WATER.CONSUMPTION</td>\n",
       "      <td>phenomics</td>\n",
       "      <td>NaN</td>\n",
       "      <td>Absolute weight trait based on weighing of the...</td>\n",
       "    </tr>\n",
       "  </tbody>\n",
       "</table>\n",
       "</div>"
      ],
      "text/plain": [
       "     biochem_net_name       display_name pathway  protein_name  short_name  \\\n",
       "94       VdnPW3_37011              CLPB4     HSP  VdnPW3_37011       CLPB4   \n",
       "95       VdnPW4_15664              ACA11      Ca  VdnPW4_15664       ACA11   \n",
       "96       VdnPW4_18801               KARI   Amino  VdnPW4_18801  F14P22.200   \n",
       "97        VdnPW5_1541              LHCA3      PS   VdnPW5_1541       LHCA3   \n",
       "98  WATER.CONSUMPTION  Water consumption     NaN           NaN         NaN   \n",
       "\n",
       "                    name       group  \\\n",
       "94              pr.CLPB4  proteomics   \n",
       "95              pr.ACA11  proteomics   \n",
       "96         pr.F14P22.200  proteomics   \n",
       "97              pr.LHCA3  proteomics   \n",
       "98  ph.WATER.CONSUMPTION   phenomics   \n",
       "\n",
       "                                           mapman_bin  \\\n",
       "94  [20.2.1 stress.abiotic.heat, 20.2 stress.abiot...   \n",
       "95  [34.21 transport.calcium, 30.3 signalling.calc...   \n",
       "96  [13.1.4.1.2 amino acid metabolism.synthesis.br...   \n",
       "97  [1.1.2.1 PS.lightreaction.photosystem I.LHC-I,...   \n",
       "98                                                NaN   \n",
       "\n",
       "                                          description  \n",
       "94                           Chaperone protein clpB 2  \n",
       "95                      Calcium-transporting ATPase 1  \n",
       "96                        Ketol-acid reductoisomerase  \n",
       "97   Chlorophyll a-b binding protein 8, chloroplastic  \n",
       "98  Absolute weight trait based on weighing of the...  "
      ]
     },
     "execution_count": 6,
     "metadata": {},
     "output_type": "execute_result"
    }
   ],
   "source": [
    "node_df = pd.read_csv(input_dir / \"node-annotations.tsv\", sep=\"\\t\")\n",
    "node_df[\"mapman_bin\"] = node_df[\"mapman_bin\"].apply(lambda x: x.split(\" | \") if not pd.isna(x) else np.nan)\n",
    "node_df.tail()"
   ]
  },
  {
   "cell_type": "markdown",
   "metadata": {},
   "source": [
    "## Log fcs (all nodes except phenomics)"
   ]
  },
  {
   "cell_type": "code",
   "execution_count": 7,
   "metadata": {},
   "outputs": [],
   "source": [
    "def mapper(x):\n",
    "    try: return node_df.set_index(\"biochem_net_name\").loc[x][\"name\"] \n",
    "    except KeyError: print(x)"
   ]
  },
  {
   "cell_type": "code",
   "execution_count": 8,
   "metadata": {},
   "outputs": [
    {
     "data": {
      "text/html": [
       "<div>\n",
       "<style scoped>\n",
       "    .dataframe tbody tr th:only-of-type {\n",
       "        vertical-align: middle;\n",
       "    }\n",
       "\n",
       "    .dataframe tbody tr th {\n",
       "        vertical-align: top;\n",
       "    }\n",
       "\n",
       "    .dataframe thead th {\n",
       "        text-align: right;\n",
       "    }\n",
       "</style>\n",
       "<table border=\"1\" class=\"dataframe\">\n",
       "  <thead>\n",
       "    <tr style=\"text-align: right;\">\n",
       "      <th></th>\n",
       "      <th>Variable</th>\n",
       "      <th>D08.logFC</th>\n",
       "      <th>D14.logFC</th>\n",
       "      <th>D28.logFC</th>\n",
       "      <th>H01.logFC</th>\n",
       "      <th>H07.logFC</th>\n",
       "      <th>H08.logFC</th>\n",
       "      <th>H14.logFC</th>\n",
       "      <th>H28.logFC</th>\n",
       "      <th>HD08.logFC</th>\n",
       "      <th>...</th>\n",
       "      <th>H07.pVal</th>\n",
       "      <th>H08.pVal</th>\n",
       "      <th>H14.pVal</th>\n",
       "      <th>H28.pVal</th>\n",
       "      <th>HD08.pVal</th>\n",
       "      <th>HD14.pVal</th>\n",
       "      <th>HD28.pVal</th>\n",
       "      <th>W01.pVal</th>\n",
       "      <th>W07.pVal</th>\n",
       "      <th>W28.pVal</th>\n",
       "    </tr>\n",
       "  </thead>\n",
       "  <tbody>\n",
       "    <tr>\n",
       "      <th>0</th>\n",
       "      <td>12-OH-JA</td>\n",
       "      <td>-0.270227</td>\n",
       "      <td>-0.750779</td>\n",
       "      <td>NaN</td>\n",
       "      <td>1.407850</td>\n",
       "      <td>-0.057980</td>\n",
       "      <td>-1.048938</td>\n",
       "      <td>0.250858</td>\n",
       "      <td>NaN</td>\n",
       "      <td>-1.375543</td>\n",
       "      <td>...</td>\n",
       "      <td>1.000</td>\n",
       "      <td>0.00767</td>\n",
       "      <td>0.3480</td>\n",
       "      <td>NaN</td>\n",
       "      <td>0.001</td>\n",
       "      <td>0.082</td>\n",
       "      <td>NaN</td>\n",
       "      <td>0.187</td>\n",
       "      <td>1.000</td>\n",
       "      <td>NaN</td>\n",
       "    </tr>\n",
       "    <tr>\n",
       "      <th>1</th>\n",
       "      <td>13-LOX</td>\n",
       "      <td>0.538457</td>\n",
       "      <td>2.143337</td>\n",
       "      <td>NaN</td>\n",
       "      <td>0.022999</td>\n",
       "      <td>-0.339275</td>\n",
       "      <td>0.484631</td>\n",
       "      <td>3.738998</td>\n",
       "      <td>NaN</td>\n",
       "      <td>-0.412145</td>\n",
       "      <td>...</td>\n",
       "      <td>0.585</td>\n",
       "      <td>0.26900</td>\n",
       "      <td>0.0112</td>\n",
       "      <td>NaN</td>\n",
       "      <td>0.154</td>\n",
       "      <td>0.164</td>\n",
       "      <td>NaN</td>\n",
       "      <td>0.022</td>\n",
       "      <td>0.046</td>\n",
       "      <td>NaN</td>\n",
       "    </tr>\n",
       "    <tr>\n",
       "      <th>2</th>\n",
       "      <td>9,10-dhJA</td>\n",
       "      <td>-0.429406</td>\n",
       "      <td>-0.190769</td>\n",
       "      <td>NaN</td>\n",
       "      <td>0.745790</td>\n",
       "      <td>-0.273136</td>\n",
       "      <td>0.604954</td>\n",
       "      <td>0.010288</td>\n",
       "      <td>NaN</td>\n",
       "      <td>-0.371449</td>\n",
       "      <td>...</td>\n",
       "      <td>0.472</td>\n",
       "      <td>0.08830</td>\n",
       "      <td>0.9810</td>\n",
       "      <td>NaN</td>\n",
       "      <td>0.801</td>\n",
       "      <td>0.017</td>\n",
       "      <td>NaN</td>\n",
       "      <td>0.111</td>\n",
       "      <td>0.284</td>\n",
       "      <td>NaN</td>\n",
       "    </tr>\n",
       "    <tr>\n",
       "      <th>3</th>\n",
       "      <td>ABA</td>\n",
       "      <td>-0.187646</td>\n",
       "      <td>0.945340</td>\n",
       "      <td>NaN</td>\n",
       "      <td>0.336843</td>\n",
       "      <td>-0.736415</td>\n",
       "      <td>-1.540812</td>\n",
       "      <td>-0.480126</td>\n",
       "      <td>NaN</td>\n",
       "      <td>-0.528245</td>\n",
       "      <td>...</td>\n",
       "      <td>0.119</td>\n",
       "      <td>0.01840</td>\n",
       "      <td>0.0326</td>\n",
       "      <td>NaN</td>\n",
       "      <td>0.534</td>\n",
       "      <td>0.859</td>\n",
       "      <td>NaN</td>\n",
       "      <td>0.025</td>\n",
       "      <td>0.042</td>\n",
       "      <td>NaN</td>\n",
       "    </tr>\n",
       "    <tr>\n",
       "      <th>4</th>\n",
       "      <td>ACO2</td>\n",
       "      <td>-0.043252</td>\n",
       "      <td>1.626726</td>\n",
       "      <td>NaN</td>\n",
       "      <td>-0.741639</td>\n",
       "      <td>-1.254482</td>\n",
       "      <td>1.166674</td>\n",
       "      <td>1.614193</td>\n",
       "      <td>NaN</td>\n",
       "      <td>-1.093032</td>\n",
       "      <td>...</td>\n",
       "      <td>0.229</td>\n",
       "      <td>0.03620</td>\n",
       "      <td>0.1200</td>\n",
       "      <td>NaN</td>\n",
       "      <td>0.255</td>\n",
       "      <td>0.144</td>\n",
       "      <td>NaN</td>\n",
       "      <td>0.208</td>\n",
       "      <td>0.616</td>\n",
       "      <td>NaN</td>\n",
       "    </tr>\n",
       "  </tbody>\n",
       "</table>\n",
       "<p>5 rows × 29 columns</p>\n",
       "</div>"
      ],
      "text/plain": [
       "    Variable  D08.logFC  D14.logFC  D28.logFC  H01.logFC  H07.logFC  \\\n",
       "0   12-OH-JA  -0.270227  -0.750779        NaN   1.407850  -0.057980   \n",
       "1     13-LOX   0.538457   2.143337        NaN   0.022999  -0.339275   \n",
       "2  9,10-dhJA  -0.429406  -0.190769        NaN   0.745790  -0.273136   \n",
       "3        ABA  -0.187646   0.945340        NaN   0.336843  -0.736415   \n",
       "4       ACO2  -0.043252   1.626726        NaN  -0.741639  -1.254482   \n",
       "\n",
       "   H08.logFC  H14.logFC  H28.logFC  HD08.logFC  ...  H07.pVal  H08.pVal  \\\n",
       "0  -1.048938   0.250858        NaN   -1.375543  ...     1.000   0.00767   \n",
       "1   0.484631   3.738998        NaN   -0.412145  ...     0.585   0.26900   \n",
       "2   0.604954   0.010288        NaN   -0.371449  ...     0.472   0.08830   \n",
       "3  -1.540812  -0.480126        NaN   -0.528245  ...     0.119   0.01840   \n",
       "4   1.166674   1.614193        NaN   -1.093032  ...     0.229   0.03620   \n",
       "\n",
       "   H14.pVal  H28.pVal  HD08.pVal  HD14.pVal  HD28.pVal  W01.pVal  W07.pVal  \\\n",
       "0    0.3480       NaN      0.001      0.082        NaN     0.187     1.000   \n",
       "1    0.0112       NaN      0.154      0.164        NaN     0.022     0.046   \n",
       "2    0.9810       NaN      0.801      0.017        NaN     0.111     0.284   \n",
       "3    0.0326       NaN      0.534      0.859        NaN     0.025     0.042   \n",
       "4    0.1200       NaN      0.255      0.144        NaN     0.208     0.616   \n",
       "\n",
       "   W28.pVal  \n",
       "0       NaN  \n",
       "1       NaN  \n",
       "2       NaN  \n",
       "3       NaN  \n",
       "4       NaN  \n",
       "\n",
       "[5 rows x 29 columns]"
      ]
     },
     "execution_count": 8,
     "metadata": {},
     "output_type": "execute_result"
    }
   ],
   "source": [
    "raw_logfc_df = pd.read_csv(input_dir / \"logFCs.tsv\", sep=\"\\t\", na_values=['-'])\n",
    "raw_logfc_df.head()"
   ]
  },
  {
   "cell_type": "code",
   "execution_count": 9,
   "metadata": {
    "scrolled": true
   },
   "outputs": [],
   "source": [
    "raw_logfc_df[\"name\"] = raw_logfc_df[\"Variable\"].apply(mapper)"
   ]
  },
  {
   "cell_type": "code",
   "execution_count": 10,
   "metadata": {},
   "outputs": [],
   "source": [
    "raw_logfc_df = raw_logfc_df[~raw_logfc_df[\"name\"].isna()]"
   ]
  },
  {
   "cell_type": "code",
   "execution_count": 11,
   "metadata": {},
   "outputs": [
    {
     "data": {
      "text/plain": [
       "['D08.logFC',\n",
       " 'D14.logFC',\n",
       " 'D28.logFC',\n",
       " 'H01.logFC',\n",
       " 'H07.logFC',\n",
       " 'H08.logFC',\n",
       " 'H14.logFC',\n",
       " 'H28.logFC',\n",
       " 'HD08.logFC',\n",
       " 'HD14.logFC',\n",
       " 'HD28.logFC',\n",
       " 'W01.logFC',\n",
       " 'W07.logFC',\n",
       " 'W28.logFC']"
      ]
     },
     "execution_count": 11,
     "metadata": {},
     "output_type": "execute_result"
    }
   ],
   "source": [
    "logFC_cols = [c for c in raw_logfc_df.columns if re.match(r\"^.*\\.logFC\", c)]; logFC_cols"
   ]
  },
  {
   "cell_type": "code",
   "execution_count": 12,
   "metadata": {},
   "outputs": [],
   "source": [
    "# merge table \n",
    "node_df = node_df.set_index(\"name\").join(raw_logfc_df.set_index(\"name\")[logFC_cols], on=\"name\", how=\"outer\")"
   ]
  },
  {
   "cell_type": "markdown",
   "metadata": {},
   "source": [
    "## Phenomics"
   ]
  },
  {
   "cell_type": "code",
   "execution_count": 13,
   "metadata": {},
   "outputs": [
    {
     "data": {
      "text/html": [
       "<div>\n",
       "<style scoped>\n",
       "    .dataframe tbody tr th:only-of-type {\n",
       "        vertical-align: middle;\n",
       "    }\n",
       "\n",
       "    .dataframe tbody tr th {\n",
       "        vertical-align: top;\n",
       "    }\n",
       "\n",
       "    .dataframe thead th {\n",
       "        text-align: right;\n",
       "    }\n",
       "</style>\n",
       "<table border=\"1\" class=\"dataframe\">\n",
       "  <thead>\n",
       "    <tr style=\"text-align: right;\">\n",
       "      <th></th>\n",
       "      <th>TOP.AREA</th>\n",
       "      <th>COMPACTNESS</th>\n",
       "      <th>Fv.Fm</th>\n",
       "      <th>qL</th>\n",
       "      <th>deltaT</th>\n",
       "      <th>WATER.CONSUMPTION</th>\n",
       "      <th>Num_Tubers</th>\n",
       "      <th>Total_Tubers_Weight</th>\n",
       "      <th>FW_SH_Total</th>\n",
       "      <th>DW_SH_Total</th>\n",
       "      <th>treatment</th>\n",
       "      <th>day</th>\n",
       "    </tr>\n",
       "  </thead>\n",
       "  <tbody>\n",
       "    <tr>\n",
       "      <th>0</th>\n",
       "      <td>96416.320617</td>\n",
       "      <td>0.675144</td>\n",
       "      <td>0.714843</td>\n",
       "      <td>0.830648</td>\n",
       "      <td>1.119381</td>\n",
       "      <td>77.0</td>\n",
       "      <td>NaN</td>\n",
       "      <td>NaN</td>\n",
       "      <td>NaN</td>\n",
       "      <td>NaN</td>\n",
       "      <td>C</td>\n",
       "      <td>S1</td>\n",
       "    </tr>\n",
       "    <tr>\n",
       "      <th>1</th>\n",
       "      <td>92754.842046</td>\n",
       "      <td>0.710871</td>\n",
       "      <td>0.713718</td>\n",
       "      <td>0.795229</td>\n",
       "      <td>0.883825</td>\n",
       "      <td>78.0</td>\n",
       "      <td>NaN</td>\n",
       "      <td>NaN</td>\n",
       "      <td>NaN</td>\n",
       "      <td>NaN</td>\n",
       "      <td>C</td>\n",
       "      <td>S1</td>\n",
       "    </tr>\n",
       "    <tr>\n",
       "      <th>2</th>\n",
       "      <td>77862.689354</td>\n",
       "      <td>0.675588</td>\n",
       "      <td>0.717358</td>\n",
       "      <td>0.792627</td>\n",
       "      <td>1.365189</td>\n",
       "      <td>34.0</td>\n",
       "      <td>NaN</td>\n",
       "      <td>NaN</td>\n",
       "      <td>NaN</td>\n",
       "      <td>NaN</td>\n",
       "      <td>C</td>\n",
       "      <td>S1</td>\n",
       "    </tr>\n",
       "    <tr>\n",
       "      <th>3</th>\n",
       "      <td>101872.301537</td>\n",
       "      <td>0.712169</td>\n",
       "      <td>0.713340</td>\n",
       "      <td>0.841509</td>\n",
       "      <td>1.245829</td>\n",
       "      <td>68.0</td>\n",
       "      <td>NaN</td>\n",
       "      <td>NaN</td>\n",
       "      <td>NaN</td>\n",
       "      <td>NaN</td>\n",
       "      <td>C</td>\n",
       "      <td>S1</td>\n",
       "    </tr>\n",
       "    <tr>\n",
       "      <th>4</th>\n",
       "      <td>90507.247872</td>\n",
       "      <td>0.716727</td>\n",
       "      <td>0.706543</td>\n",
       "      <td>0.846210</td>\n",
       "      <td>1.355232</td>\n",
       "      <td>77.0</td>\n",
       "      <td>NaN</td>\n",
       "      <td>NaN</td>\n",
       "      <td>NaN</td>\n",
       "      <td>NaN</td>\n",
       "      <td>C</td>\n",
       "      <td>S1</td>\n",
       "    </tr>\n",
       "  </tbody>\n",
       "</table>\n",
       "</div>"
      ],
      "text/plain": [
       "        TOP.AREA  COMPACTNESS     Fv.Fm        qL    deltaT  \\\n",
       "0   96416.320617     0.675144  0.714843  0.830648  1.119381   \n",
       "1   92754.842046     0.710871  0.713718  0.795229  0.883825   \n",
       "2   77862.689354     0.675588  0.717358  0.792627  1.365189   \n",
       "3  101872.301537     0.712169  0.713340  0.841509  1.245829   \n",
       "4   90507.247872     0.716727  0.706543  0.846210  1.355232   \n",
       "\n",
       "   WATER.CONSUMPTION  Num_Tubers  Total_Tubers_Weight  FW_SH_Total  \\\n",
       "0               77.0         NaN                  NaN          NaN   \n",
       "1               78.0         NaN                  NaN          NaN   \n",
       "2               34.0         NaN                  NaN          NaN   \n",
       "3               68.0         NaN                  NaN          NaN   \n",
       "4               77.0         NaN                  NaN          NaN   \n",
       "\n",
       "   DW_SH_Total treatment day  \n",
       "0          NaN         C  S1  \n",
       "1          NaN         C  S1  \n",
       "2          NaN         C  S1  \n",
       "3          NaN         C  S1  \n",
       "4          NaN         C  S1  "
      ]
     },
     "metadata": {},
     "output_type": "display_data"
    },
    {
     "name": "stdout",
     "output_type": "stream",
     "text": [
      "(364, 12)\n"
     ]
    }
   ],
   "source": [
    "# Supp. Table 5.xlsx\n",
    "df_phenomics = pd.read_csv(input_dir / \"data_phenomics.txt\", sep=\"\\t\")\n",
    "df_phenomics[[\"treatment\", \"day\", \"rep\"]] = df_phenomics[\"SampleID\"].str.split(\"_\", expand=True)\n",
    "del df_phenomics[\"SampleID\"]\n",
    "del df_phenomics[\"rep\"]\n",
    "display(df_phenomics.head())\n",
    "print(df_phenomics.shape)"
   ]
  },
  {
   "cell_type": "code",
   "execution_count": 14,
   "metadata": {},
   "outputs": [
    {
     "data": {
      "text/html": [
       "<div>\n",
       "<style scoped>\n",
       "    .dataframe tbody tr th:only-of-type {\n",
       "        vertical-align: middle;\n",
       "    }\n",
       "\n",
       "    .dataframe tbody tr th {\n",
       "        vertical-align: top;\n",
       "    }\n",
       "\n",
       "    .dataframe thead th {\n",
       "        text-align: right;\n",
       "    }\n",
       "</style>\n",
       "<table border=\"1\" class=\"dataframe\">\n",
       "  <thead>\n",
       "    <tr style=\"text-align: right;\">\n",
       "      <th></th>\n",
       "      <th></th>\n",
       "      <th>TOP.AREA</th>\n",
       "      <th>COMPACTNESS</th>\n",
       "      <th>Fv.Fm</th>\n",
       "      <th>qL</th>\n",
       "      <th>deltaT</th>\n",
       "      <th>WATER.CONSUMPTION</th>\n",
       "      <th>Num_Tubers</th>\n",
       "      <th>Total_Tubers_Weight</th>\n",
       "      <th>FW_SH_Total</th>\n",
       "      <th>DW_SH_Total</th>\n",
       "    </tr>\n",
       "    <tr>\n",
       "      <th>treatment</th>\n",
       "      <th>day</th>\n",
       "      <th></th>\n",
       "      <th></th>\n",
       "      <th></th>\n",
       "      <th></th>\n",
       "      <th></th>\n",
       "      <th></th>\n",
       "      <th></th>\n",
       "      <th></th>\n",
       "      <th></th>\n",
       "      <th></th>\n",
       "    </tr>\n",
       "  </thead>\n",
       "  <tbody>\n",
       "    <tr>\n",
       "      <th rowspan=\"5\" valign=\"top\">C</th>\n",
       "      <th>P28</th>\n",
       "      <td>NaN</td>\n",
       "      <td>NaN</td>\n",
       "      <td>NaN</td>\n",
       "      <td>NaN</td>\n",
       "      <td>NaN</td>\n",
       "      <td>NaN</td>\n",
       "      <td>12.5</td>\n",
       "      <td>124.9775</td>\n",
       "      <td>NaN</td>\n",
       "      <td>NaN</td>\n",
       "    </tr>\n",
       "    <tr>\n",
       "      <th>S1</th>\n",
       "      <td>94720.535034</td>\n",
       "      <td>0.696457</td>\n",
       "      <td>0.712036</td>\n",
       "      <td>0.824933</td>\n",
       "      <td>1.167246</td>\n",
       "      <td>71.333333</td>\n",
       "      <td>NaN</td>\n",
       "      <td>NaN</td>\n",
       "      <td>71.21475</td>\n",
       "      <td>3.58350</td>\n",
       "    </tr>\n",
       "    <tr>\n",
       "      <th>S14</th>\n",
       "      <td>168017.795272</td>\n",
       "      <td>0.730752</td>\n",
       "      <td>0.690918</td>\n",
       "      <td>0.858861</td>\n",
       "      <td>1.701229</td>\n",
       "      <td>133.500000</td>\n",
       "      <td>NaN</td>\n",
       "      <td>NaN</td>\n",
       "      <td>116.34675</td>\n",
       "      <td>7.61575</td>\n",
       "    </tr>\n",
       "    <tr>\n",
       "      <th>S15</th>\n",
       "      <td>169275.325866</td>\n",
       "      <td>0.726081</td>\n",
       "      <td>0.684816</td>\n",
       "      <td>0.848090</td>\n",
       "      <td>1.587220</td>\n",
       "      <td>83.500000</td>\n",
       "      <td>NaN</td>\n",
       "      <td>NaN</td>\n",
       "      <td>121.57775</td>\n",
       "      <td>8.25475</td>\n",
       "    </tr>\n",
       "    <tr>\n",
       "      <th>S21</th>\n",
       "      <td>169634.508817</td>\n",
       "      <td>0.724695</td>\n",
       "      <td>0.673477</td>\n",
       "      <td>0.765046</td>\n",
       "      <td>1.924645</td>\n",
       "      <td>118.000000</td>\n",
       "      <td>NaN</td>\n",
       "      <td>NaN</td>\n",
       "      <td>119.80075</td>\n",
       "      <td>8.75225</td>\n",
       "    </tr>\n",
       "  </tbody>\n",
       "</table>\n",
       "</div>"
      ],
      "text/plain": [
       "                    TOP.AREA  COMPACTNESS     Fv.Fm        qL    deltaT  \\\n",
       "treatment day                                                             \n",
       "C         P28            NaN          NaN       NaN       NaN       NaN   \n",
       "          S1    94720.535034     0.696457  0.712036  0.824933  1.167246   \n",
       "          S14  168017.795272     0.730752  0.690918  0.858861  1.701229   \n",
       "          S15  169275.325866     0.726081  0.684816  0.848090  1.587220   \n",
       "          S21  169634.508817     0.724695  0.673477  0.765046  1.924645   \n",
       "\n",
       "               WATER.CONSUMPTION  Num_Tubers  Total_Tubers_Weight  \\\n",
       "treatment day                                                       \n",
       "C         P28                NaN        12.5             124.9775   \n",
       "          S1           71.333333         NaN                  NaN   \n",
       "          S14         133.500000         NaN                  NaN   \n",
       "          S15          83.500000         NaN                  NaN   \n",
       "          S21         118.000000         NaN                  NaN   \n",
       "\n",
       "               FW_SH_Total  DW_SH_Total  \n",
       "treatment day                            \n",
       "C         P28          NaN          NaN  \n",
       "          S1      71.21475      3.58350  \n",
       "          S14    116.34675      7.61575  \n",
       "          S15    121.57775      8.25475  \n",
       "          S21    119.80075      8.75225  "
      ]
     },
     "execution_count": 14,
     "metadata": {},
     "output_type": "execute_result"
    }
   ],
   "source": [
    "df_phenomics = df_phenomics.groupby(by=[\"treatment\", \"day\"]).mean()\n",
    "df_phenomics.head()"
   ]
  },
  {
   "cell_type": "code",
   "execution_count": 15,
   "metadata": {},
   "outputs": [],
   "source": [
    "relative_changes = {}\n",
    "for x in all_days:\n",
    "    treatment, day = re.match(r\"([A-Z]*)(\\d*)\", x).groups()\n",
    "    \n",
    "    if day == '28':\n",
    "        t = df_phenomics.loc[(treatment, f\"P{day.lstrip('0')}\")]        \n",
    "        c = df_phenomics.loc[(\"C\", f\"P{day.lstrip('0')}\")]\n",
    "    else:\n",
    "        t = df_phenomics.loc[(treatment, f\"S{day.lstrip('0')}\")]\n",
    "        c = df_phenomics.loc[(\"C\", f\"S{day.lstrip('0')}\")]\n",
    "    rc = (t/c -1)\n",
    "    rc.index = [f\"ph.{x}\" for x in rc.index]\n",
    "    relative_changes[x] = rc"
   ]
  },
  {
   "cell_type": "code",
   "execution_count": 16,
   "metadata": {},
   "outputs": [
    {
     "data": {
      "text/html": [
       "<style type=\"text/css\">\n",
       "#T_1e635_row0_col0 {\n",
       "  background-color: #ebeaee;\n",
       "  color: #000000;\n",
       "}\n",
       "#T_1e635_row0_col1 {\n",
       "  background-color: #4a7bbc;\n",
       "  color: #f1f1f1;\n",
       "}\n",
       "#T_1e635_row0_col2, #T_1e635_row0_col7, #T_1e635_row0_col10, #T_1e635_row0_col13, #T_1e635_row1_col2, #T_1e635_row1_col7, #T_1e635_row1_col10, #T_1e635_row1_col13, #T_1e635_row2_col2, #T_1e635_row2_col7, #T_1e635_row2_col10, #T_1e635_row2_col13, #T_1e635_row3_col2, #T_1e635_row3_col7, #T_1e635_row3_col10, #T_1e635_row3_col13, #T_1e635_row4_col2, #T_1e635_row4_col7, #T_1e635_row4_col10, #T_1e635_row4_col13, #T_1e635_row5_col2, #T_1e635_row5_col7, #T_1e635_row5_col10, #T_1e635_row5_col13, #T_1e635_row6_col0, #T_1e635_row6_col1, #T_1e635_row6_col3, #T_1e635_row6_col4, #T_1e635_row6_col5, #T_1e635_row6_col6, #T_1e635_row6_col8, #T_1e635_row6_col9, #T_1e635_row6_col11, #T_1e635_row6_col12, #T_1e635_row7_col0, #T_1e635_row7_col1, #T_1e635_row7_col3, #T_1e635_row7_col4, #T_1e635_row7_col5, #T_1e635_row7_col6, #T_1e635_row7_col8, #T_1e635_row7_col9, #T_1e635_row7_col11, #T_1e635_row7_col12, #T_1e635_row8_col2, #T_1e635_row8_col7, #T_1e635_row8_col10, #T_1e635_row8_col13, #T_1e635_row9_col2, #T_1e635_row9_col7, #T_1e635_row9_col10, #T_1e635_row9_col13 {\n",
       "  background-color: #000000;\n",
       "  color: #f1f1f1;\n",
       "  background: #E5E5E5;\n",
       "}\n",
       "#T_1e635_row0_col3, #T_1e635_row2_col11, #T_1e635_row8_col6 {\n",
       "  background-color: #f9f5f5;\n",
       "  color: #000000;\n",
       "}\n",
       "#T_1e635_row0_col4 {\n",
       "  background-color: #266abd;\n",
       "  color: #f1f1f1;\n",
       "}\n",
       "#T_1e635_row0_col5, #T_1e635_row0_col6, #T_1e635_row0_col8, #T_1e635_row0_col9, #T_1e635_row0_col12, #T_1e635_row2_col12, #T_1e635_row3_col6, #T_1e635_row4_col3, #T_1e635_row4_col4, #T_1e635_row4_col5, #T_1e635_row4_col6, #T_1e635_row5_col1, #T_1e635_row5_col9, #T_1e635_row5_col12, #T_1e635_row6_col13, #T_1e635_row7_col7, #T_1e635_row7_col10, #T_1e635_row7_col13, #T_1e635_row8_col12, #T_1e635_row9_col5, #T_1e635_row9_col12 {\n",
       "  background-color: #2369bd;\n",
       "  color: #f1f1f1;\n",
       "}\n",
       "#T_1e635_row0_col11 {\n",
       "  background-color: #98acc9;\n",
       "  color: #f1f1f1;\n",
       "}\n",
       "#T_1e635_row1_col0 {\n",
       "  background-color: #e9e9ed;\n",
       "  color: #000000;\n",
       "}\n",
       "#T_1e635_row1_col1, #T_1e635_row3_col3 {\n",
       "  background-color: #cbd1de;\n",
       "  color: #000000;\n",
       "}\n",
       "#T_1e635_row1_col3 {\n",
       "  background-color: #f1dddb;\n",
       "  color: #000000;\n",
       "}\n",
       "#T_1e635_row1_col4 {\n",
       "  background-color: #d69f9c;\n",
       "  color: #000000;\n",
       "}\n",
       "#T_1e635_row1_col5 {\n",
       "  background-color: #d9a5a2;\n",
       "  color: #000000;\n",
       "}\n",
       "#T_1e635_row1_col6 {\n",
       "  background-color: #ecd3d2;\n",
       "  color: #000000;\n",
       "}\n",
       "#T_1e635_row1_col8 {\n",
       "  background-color: #d7a09d;\n",
       "  color: #000000;\n",
       "}\n",
       "#T_1e635_row1_col9 {\n",
       "  background-color: #efd8d6;\n",
       "  color: #000000;\n",
       "}\n",
       "#T_1e635_row1_col11 {\n",
       "  background-color: #97abc9;\n",
       "  color: #f1f1f1;\n",
       "}\n",
       "#T_1e635_row1_col12 {\n",
       "  background-color: #4276bc;\n",
       "  color: #f1f1f1;\n",
       "}\n",
       "#T_1e635_row2_col0, #T_1e635_row3_col11 {\n",
       "  background-color: #faf5f5;\n",
       "  color: #000000;\n",
       "}\n",
       "#T_1e635_row2_col1 {\n",
       "  background-color: #f5f2f4;\n",
       "  color: #000000;\n",
       "}\n",
       "#T_1e635_row2_col3 {\n",
       "  background-color: #faf3f2;\n",
       "  color: #000000;\n",
       "}\n",
       "#T_1e635_row2_col4, #T_1e635_row2_col5, #T_1e635_row4_col9 {\n",
       "  background-color: #f5e5e4;\n",
       "  color: #000000;\n",
       "}\n",
       "#T_1e635_row2_col6 {\n",
       "  background-color: #eeedf0;\n",
       "  color: #000000;\n",
       "}\n",
       "#T_1e635_row2_col8 {\n",
       "  background-color: #faf0ef;\n",
       "  color: #000000;\n",
       "}\n",
       "#T_1e635_row2_col9 {\n",
       "  background-color: #dadde5;\n",
       "  color: #000000;\n",
       "}\n",
       "#T_1e635_row3_col0 {\n",
       "  background-color: #faf5f4;\n",
       "  color: #000000;\n",
       "}\n",
       "#T_1e635_row3_col1 {\n",
       "  background-color: #ecd2d0;\n",
       "  color: #000000;\n",
       "}\n",
       "#T_1e635_row3_col4, #T_1e635_row8_col8 {\n",
       "  background-color: #6087bd;\n",
       "  color: #f1f1f1;\n",
       "}\n",
       "#T_1e635_row3_col5 {\n",
       "  background-color: #6489be;\n",
       "  color: #f1f1f1;\n",
       "}\n",
       "#T_1e635_row3_col8 {\n",
       "  background-color: #a3b4cd;\n",
       "  color: #000000;\n",
       "}\n",
       "#T_1e635_row3_col9, #T_1e635_row8_col5 {\n",
       "  background-color: #7594c0;\n",
       "  color: #f1f1f1;\n",
       "}\n",
       "#T_1e635_row3_col12 {\n",
       "  background-color: #f3f1f3;\n",
       "  color: #000000;\n",
       "}\n",
       "#T_1e635_row4_col0, #T_1e635_row9_col11 {\n",
       "  background-color: #bdc6d7;\n",
       "  color: #000000;\n",
       "}\n",
       "#T_1e635_row4_col1, #T_1e635_row4_col11, #T_1e635_row4_col12, #T_1e635_row5_col3, #T_1e635_row5_col4, #T_1e635_row5_col5, #T_1e635_row5_col6, #T_1e635_row5_col8, #T_1e635_row6_col2, #T_1e635_row6_col7, #T_1e635_row9_col6 {\n",
       "  background-color: #a9373b;\n",
       "  color: #f1f1f1;\n",
       "}\n",
       "#T_1e635_row4_col8 {\n",
       "  background-color: #bfc8d8;\n",
       "  color: #000000;\n",
       "}\n",
       "#T_1e635_row5_col0 {\n",
       "  background-color: #e2e3ea;\n",
       "  color: #000000;\n",
       "}\n",
       "#T_1e635_row5_col11 {\n",
       "  background-color: #b24a4b;\n",
       "  color: #f1f1f1;\n",
       "}\n",
       "#T_1e635_row6_col10 {\n",
       "  background-color: #bb5e5d;\n",
       "  color: #f1f1f1;\n",
       "}\n",
       "#T_1e635_row7_col2 {\n",
       "  background-color: #d2d7e1;\n",
       "  color: #000000;\n",
       "}\n",
       "#T_1e635_row8_col0 {\n",
       "  background-color: #a7b6ce;\n",
       "  color: #000000;\n",
       "}\n",
       "#T_1e635_row8_col1 {\n",
       "  background-color: #839dc4;\n",
       "  color: #f1f1f1;\n",
       "}\n",
       "#T_1e635_row8_col3 {\n",
       "  background-color: #ebd0ce;\n",
       "  color: #000000;\n",
       "}\n",
       "#T_1e635_row8_col4 {\n",
       "  background-color: #6c8ebf;\n",
       "  color: #f1f1f1;\n",
       "}\n",
       "#T_1e635_row8_col9 {\n",
       "  background-color: #3b73bc;\n",
       "  color: #f1f1f1;\n",
       "}\n",
       "#T_1e635_row8_col11 {\n",
       "  background-color: #a8b7cf;\n",
       "  color: #000000;\n",
       "}\n",
       "#T_1e635_row9_col0 {\n",
       "  background-color: #8aa2c5;\n",
       "  color: #f1f1f1;\n",
       "}\n",
       "#T_1e635_row9_col1 {\n",
       "  background-color: #87a0c4;\n",
       "  color: #f1f1f1;\n",
       "}\n",
       "#T_1e635_row9_col3 {\n",
       "  background-color: #deb2b0;\n",
       "  color: #000000;\n",
       "}\n",
       "#T_1e635_row9_col4 {\n",
       "  background-color: #859ec4;\n",
       "  color: #f1f1f1;\n",
       "}\n",
       "#T_1e635_row9_col8 {\n",
       "  background-color: #829cc3;\n",
       "  color: #f1f1f1;\n",
       "}\n",
       "#T_1e635_row9_col9 {\n",
       "  background-color: #95a9c8;\n",
       "  color: #f1f1f1;\n",
       "}\n",
       "</style>\n",
       "<table id=\"T_1e635\">\n",
       "  <thead>\n",
       "    <tr>\n",
       "      <th class=\"blank level0\" >&nbsp;</th>\n",
       "      <th id=\"T_1e635_level0_col0\" class=\"col_heading level0 col0\" >D08</th>\n",
       "      <th id=\"T_1e635_level0_col1\" class=\"col_heading level0 col1\" >D14</th>\n",
       "      <th id=\"T_1e635_level0_col2\" class=\"col_heading level0 col2\" >D28</th>\n",
       "      <th id=\"T_1e635_level0_col3\" class=\"col_heading level0 col3\" >H01</th>\n",
       "      <th id=\"T_1e635_level0_col4\" class=\"col_heading level0 col4\" >H07</th>\n",
       "      <th id=\"T_1e635_level0_col5\" class=\"col_heading level0 col5\" >H08</th>\n",
       "      <th id=\"T_1e635_level0_col6\" class=\"col_heading level0 col6\" >H14</th>\n",
       "      <th id=\"T_1e635_level0_col7\" class=\"col_heading level0 col7\" >H28</th>\n",
       "      <th id=\"T_1e635_level0_col8\" class=\"col_heading level0 col8\" >HD08</th>\n",
       "      <th id=\"T_1e635_level0_col9\" class=\"col_heading level0 col9\" >HD14</th>\n",
       "      <th id=\"T_1e635_level0_col10\" class=\"col_heading level0 col10\" >HD28</th>\n",
       "      <th id=\"T_1e635_level0_col11\" class=\"col_heading level0 col11\" >W01</th>\n",
       "      <th id=\"T_1e635_level0_col12\" class=\"col_heading level0 col12\" >W07</th>\n",
       "      <th id=\"T_1e635_level0_col13\" class=\"col_heading level0 col13\" >W28</th>\n",
       "    </tr>\n",
       "  </thead>\n",
       "  <tbody>\n",
       "    <tr>\n",
       "      <th id=\"T_1e635_level0_row0\" class=\"row_heading level0 row0\" >ph.TOP.AREA</th>\n",
       "      <td id=\"T_1e635_row0_col0\" class=\"data row0 col0\" >-0.023</td>\n",
       "      <td id=\"T_1e635_row0_col1\" class=\"data row0 col1\" >-0.174</td>\n",
       "      <td id=\"T_1e635_row0_col2\" class=\"data row0 col2\" >-</td>\n",
       "      <td id=\"T_1e635_row0_col3\" class=\"data row0 col3\" >-0.003</td>\n",
       "      <td id=\"T_1e635_row0_col4\" class=\"data row0 col4\" >-0.197</td>\n",
       "      <td id=\"T_1e635_row0_col5\" class=\"data row0 col5\" >-0.201</td>\n",
       "      <td id=\"T_1e635_row0_col6\" class=\"data row0 col6\" >-0.242</td>\n",
       "      <td id=\"T_1e635_row0_col7\" class=\"data row0 col7\" >-</td>\n",
       "      <td id=\"T_1e635_row0_col8\" class=\"data row0 col8\" >-0.252</td>\n",
       "      <td id=\"T_1e635_row0_col9\" class=\"data row0 col9\" >-0.351</td>\n",
       "      <td id=\"T_1e635_row0_col10\" class=\"data row0 col10\" >-</td>\n",
       "      <td id=\"T_1e635_row0_col11\" class=\"data row0 col11\" >-0.102</td>\n",
       "      <td id=\"T_1e635_row0_col12\" class=\"data row0 col12\" >-0.531</td>\n",
       "      <td id=\"T_1e635_row0_col13\" class=\"data row0 col13\" >-</td>\n",
       "    </tr>\n",
       "    <tr>\n",
       "      <th id=\"T_1e635_level0_row1\" class=\"row_heading level0 row1\" >ph.COMPACTNESS</th>\n",
       "      <td id=\"T_1e635_row1_col0\" class=\"data row1 col0\" >-0.024</td>\n",
       "      <td id=\"T_1e635_row1_col1\" class=\"data row1 col1\" >-0.053</td>\n",
       "      <td id=\"T_1e635_row1_col2\" class=\"data row1 col2\" >-</td>\n",
       "      <td id=\"T_1e635_row1_col3\" class=\"data row1 col3\" >0.030</td>\n",
       "      <td id=\"T_1e635_row1_col4\" class=\"data row1 col4\" >0.093</td>\n",
       "      <td id=\"T_1e635_row1_col5\" class=\"data row1 col5\" >0.087</td>\n",
       "      <td id=\"T_1e635_row1_col6\" class=\"data row1 col6\" >0.040</td>\n",
       "      <td id=\"T_1e635_row1_col7\" class=\"data row1 col7\" >-</td>\n",
       "      <td id=\"T_1e635_row1_col8\" class=\"data row1 col8\" >0.091</td>\n",
       "      <td id=\"T_1e635_row1_col9\" class=\"data row1 col9\" >0.034</td>\n",
       "      <td id=\"T_1e635_row1_col10\" class=\"data row1 col10\" >-</td>\n",
       "      <td id=\"T_1e635_row1_col11\" class=\"data row1 col11\" >-0.103</td>\n",
       "      <td id=\"T_1e635_row1_col12\" class=\"data row1 col12\" >-0.181</td>\n",
       "      <td id=\"T_1e635_row1_col13\" class=\"data row1 col13\" >-</td>\n",
       "    </tr>\n",
       "    <tr>\n",
       "      <th id=\"T_1e635_level0_row2\" class=\"row_heading level0 row2\" >ph.Fv.Fm</th>\n",
       "      <td id=\"T_1e635_row2_col0\" class=\"data row2 col0\" >-0.002</td>\n",
       "      <td id=\"T_1e635_row2_col1\" class=\"data row2 col1\" >-0.012</td>\n",
       "      <td id=\"T_1e635_row2_col2\" class=\"data row2 col2\" >-</td>\n",
       "      <td id=\"T_1e635_row2_col3\" class=\"data row2 col3\" >0.007</td>\n",
       "      <td id=\"T_1e635_row2_col4\" class=\"data row2 col4\" >0.023</td>\n",
       "      <td id=\"T_1e635_row2_col5\" class=\"data row2 col5\" >0.023</td>\n",
       "      <td id=\"T_1e635_row2_col6\" class=\"data row2 col6\" >-0.020</td>\n",
       "      <td id=\"T_1e635_row2_col7\" class=\"data row2 col7\" >-</td>\n",
       "      <td id=\"T_1e635_row2_col8\" class=\"data row2 col8\" >0.011</td>\n",
       "      <td id=\"T_1e635_row2_col9\" class=\"data row2 col9\" >-0.038</td>\n",
       "      <td id=\"T_1e635_row2_col10\" class=\"data row2 col10\" >-</td>\n",
       "      <td id=\"T_1e635_row2_col11\" class=\"data row2 col11\" >-0.005</td>\n",
       "      <td id=\"T_1e635_row2_col12\" class=\"data row2 col12\" >-0.211</td>\n",
       "      <td id=\"T_1e635_row2_col13\" class=\"data row2 col13\" >-</td>\n",
       "    </tr>\n",
       "    <tr>\n",
       "      <th id=\"T_1e635_level0_row3\" class=\"row_heading level0 row3\" >ph.qL</th>\n",
       "      <td id=\"T_1e635_row3_col0\" class=\"data row3 col0\" >0.002</td>\n",
       "      <td id=\"T_1e635_row3_col1\" class=\"data row3 col1\" >0.041</td>\n",
       "      <td id=\"T_1e635_row3_col2\" class=\"data row3 col2\" >-</td>\n",
       "      <td id=\"T_1e635_row3_col3\" class=\"data row3 col3\" >-0.053</td>\n",
       "      <td id=\"T_1e635_row3_col4\" class=\"data row3 col4\" >-0.155</td>\n",
       "      <td id=\"T_1e635_row3_col5\" class=\"data row3 col5\" >-0.152</td>\n",
       "      <td id=\"T_1e635_row3_col6\" class=\"data row3 col6\" >-0.213</td>\n",
       "      <td id=\"T_1e635_row3_col7\" class=\"data row3 col7\" >-</td>\n",
       "      <td id=\"T_1e635_row3_col8\" class=\"data row3 col8\" >-0.091</td>\n",
       "      <td id=\"T_1e635_row3_col9\" class=\"data row3 col9\" >-0.137</td>\n",
       "      <td id=\"T_1e635_row3_col10\" class=\"data row3 col10\" >-</td>\n",
       "      <td id=\"T_1e635_row3_col11\" class=\"data row3 col11\" >-0.003</td>\n",
       "      <td id=\"T_1e635_row3_col12\" class=\"data row3 col12\" >-0.013</td>\n",
       "      <td id=\"T_1e635_row3_col13\" class=\"data row3 col13\" >-</td>\n",
       "    </tr>\n",
       "    <tr>\n",
       "      <th id=\"T_1e635_level0_row4\" class=\"row_heading level0 row4\" >ph.deltaT</th>\n",
       "      <td id=\"T_1e635_row4_col0\" class=\"data row4 col0\" >-0.066</td>\n",
       "      <td id=\"T_1e635_row4_col1\" class=\"data row4 col1\" >0.337</td>\n",
       "      <td id=\"T_1e635_row4_col2\" class=\"data row4 col2\" >-</td>\n",
       "      <td id=\"T_1e635_row4_col3\" class=\"data row4 col3\" >-0.510</td>\n",
       "      <td id=\"T_1e635_row4_col4\" class=\"data row4 col4\" >-0.516</td>\n",
       "      <td id=\"T_1e635_row4_col5\" class=\"data row4 col5\" >-0.269</td>\n",
       "      <td id=\"T_1e635_row4_col6\" class=\"data row4 col6\" >-0.221</td>\n",
       "      <td id=\"T_1e635_row4_col7\" class=\"data row4 col7\" >-</td>\n",
       "      <td id=\"T_1e635_row4_col8\" class=\"data row4 col8\" >-0.065</td>\n",
       "      <td id=\"T_1e635_row4_col9\" class=\"data row4 col9\" >0.023</td>\n",
       "      <td id=\"T_1e635_row4_col10\" class=\"data row4 col10\" >-</td>\n",
       "      <td id=\"T_1e635_row4_col11\" class=\"data row4 col11\" >0.430</td>\n",
       "      <td id=\"T_1e635_row4_col12\" class=\"data row4 col12\" >1.374</td>\n",
       "      <td id=\"T_1e635_row4_col13\" class=\"data row4 col13\" >-</td>\n",
       "    </tr>\n",
       "    <tr>\n",
       "      <th id=\"T_1e635_level0_row5\" class=\"row_heading level0 row5\" >ph.WATER.CONSUMPTION</th>\n",
       "      <td id=\"T_1e635_row5_col0\" class=\"data row5 col0\" >-0.031</td>\n",
       "      <td id=\"T_1e635_row5_col1\" class=\"data row5 col1\" >-0.471</td>\n",
       "      <td id=\"T_1e635_row5_col2\" class=\"data row5 col2\" >-</td>\n",
       "      <td id=\"T_1e635_row5_col3\" class=\"data row5 col3\" >1.002</td>\n",
       "      <td id=\"T_1e635_row5_col4\" class=\"data row5 col4\" >0.654</td>\n",
       "      <td id=\"T_1e635_row5_col5\" class=\"data row5 col5\" >0.684</td>\n",
       "      <td id=\"T_1e635_row5_col6\" class=\"data row5 col6\" >0.422</td>\n",
       "      <td id=\"T_1e635_row5_col7\" class=\"data row5 col7\" >-</td>\n",
       "      <td id=\"T_1e635_row5_col8\" class=\"data row5 col8\" >0.334</td>\n",
       "      <td id=\"T_1e635_row5_col9\" class=\"data row5 col9\" >-0.227</td>\n",
       "      <td id=\"T_1e635_row5_col10\" class=\"data row5 col10\" >-</td>\n",
       "      <td id=\"T_1e635_row5_col11\" class=\"data row5 col11\" >0.180</td>\n",
       "      <td id=\"T_1e635_row5_col12\" class=\"data row5 col12\" >-0.679</td>\n",
       "      <td id=\"T_1e635_row5_col13\" class=\"data row5 col13\" >-</td>\n",
       "    </tr>\n",
       "    <tr>\n",
       "      <th id=\"T_1e635_level0_row6\" class=\"row_heading level0 row6\" >ph.Num_Tubers</th>\n",
       "      <td id=\"T_1e635_row6_col0\" class=\"data row6 col0\" >-</td>\n",
       "      <td id=\"T_1e635_row6_col1\" class=\"data row6 col1\" >-</td>\n",
       "      <td id=\"T_1e635_row6_col2\" class=\"data row6 col2\" >0.260</td>\n",
       "      <td id=\"T_1e635_row6_col3\" class=\"data row6 col3\" >-</td>\n",
       "      <td id=\"T_1e635_row6_col4\" class=\"data row6 col4\" >-</td>\n",
       "      <td id=\"T_1e635_row6_col5\" class=\"data row6 col5\" >-</td>\n",
       "      <td id=\"T_1e635_row6_col6\" class=\"data row6 col6\" >-</td>\n",
       "      <td id=\"T_1e635_row6_col7\" class=\"data row6 col7\" >0.320</td>\n",
       "      <td id=\"T_1e635_row6_col8\" class=\"data row6 col8\" >-</td>\n",
       "      <td id=\"T_1e635_row6_col9\" class=\"data row6 col9\" >-</td>\n",
       "      <td id=\"T_1e635_row6_col10\" class=\"data row6 col10\" >0.160</td>\n",
       "      <td id=\"T_1e635_row6_col11\" class=\"data row6 col11\" >-</td>\n",
       "      <td id=\"T_1e635_row6_col12\" class=\"data row6 col12\" >-</td>\n",
       "      <td id=\"T_1e635_row6_col13\" class=\"data row6 col13\" >-0.820</td>\n",
       "    </tr>\n",
       "    <tr>\n",
       "      <th id=\"T_1e635_level0_row7\" class=\"row_heading level0 row7\" >ph.Total_Tubers_Weight</th>\n",
       "      <td id=\"T_1e635_row7_col0\" class=\"data row7 col0\" >-</td>\n",
       "      <td id=\"T_1e635_row7_col1\" class=\"data row7 col1\" >-</td>\n",
       "      <td id=\"T_1e635_row7_col2\" class=\"data row7 col2\" >-0.046</td>\n",
       "      <td id=\"T_1e635_row7_col3\" class=\"data row7 col3\" >-</td>\n",
       "      <td id=\"T_1e635_row7_col4\" class=\"data row7 col4\" >-</td>\n",
       "      <td id=\"T_1e635_row7_col5\" class=\"data row7 col5\" >-</td>\n",
       "      <td id=\"T_1e635_row7_col6\" class=\"data row7 col6\" >-</td>\n",
       "      <td id=\"T_1e635_row7_col7\" class=\"data row7 col7\" >-0.483</td>\n",
       "      <td id=\"T_1e635_row7_col8\" class=\"data row7 col8\" >-</td>\n",
       "      <td id=\"T_1e635_row7_col9\" class=\"data row7 col9\" >-</td>\n",
       "      <td id=\"T_1e635_row7_col10\" class=\"data row7 col10\" >-0.484</td>\n",
       "      <td id=\"T_1e635_row7_col11\" class=\"data row7 col11\" >-</td>\n",
       "      <td id=\"T_1e635_row7_col12\" class=\"data row7 col12\" >-</td>\n",
       "      <td id=\"T_1e635_row7_col13\" class=\"data row7 col13\" >-0.974</td>\n",
       "    </tr>\n",
       "    <tr>\n",
       "      <th id=\"T_1e635_level0_row8\" class=\"row_heading level0 row8\" >ph.FW_SH_Total</th>\n",
       "      <td id=\"T_1e635_row8_col0\" class=\"data row8 col0\" >-0.088</td>\n",
       "      <td id=\"T_1e635_row8_col1\" class=\"data row8 col1\" >-0.123</td>\n",
       "      <td id=\"T_1e635_row8_col2\" class=\"data row8 col2\" >-</td>\n",
       "      <td id=\"T_1e635_row8_col3\" class=\"data row8 col3\" >0.044</td>\n",
       "      <td id=\"T_1e635_row8_col4\" class=\"data row8 col4\" >-0.145</td>\n",
       "      <td id=\"T_1e635_row8_col5\" class=\"data row8 col5\" >-0.136</td>\n",
       "      <td id=\"T_1e635_row8_col6\" class=\"data row8 col6\" >-0.006</td>\n",
       "      <td id=\"T_1e635_row8_col7\" class=\"data row8 col7\" >-</td>\n",
       "      <td id=\"T_1e635_row8_col8\" class=\"data row8 col8\" >-0.156</td>\n",
       "      <td id=\"T_1e635_row8_col9\" class=\"data row8 col9\" >-0.186</td>\n",
       "      <td id=\"T_1e635_row8_col10\" class=\"data row8 col10\" >-</td>\n",
       "      <td id=\"T_1e635_row8_col11\" class=\"data row8 col11\" >-0.087</td>\n",
       "      <td id=\"T_1e635_row8_col12\" class=\"data row8 col12\" >-0.369</td>\n",
       "      <td id=\"T_1e635_row8_col13\" class=\"data row8 col13\" >-</td>\n",
       "    </tr>\n",
       "    <tr>\n",
       "      <th id=\"T_1e635_level0_row9\" class=\"row_heading level0 row9\" >ph.DW_SH_Total</th>\n",
       "      <td id=\"T_1e635_row9_col0\" class=\"data row9 col0\" >-0.117</td>\n",
       "      <td id=\"T_1e635_row9_col1\" class=\"data row9 col1\" >-0.120</td>\n",
       "      <td id=\"T_1e635_row9_col2\" class=\"data row9 col2\" >-</td>\n",
       "      <td id=\"T_1e635_row9_col3\" class=\"data row9 col3\" >0.072</td>\n",
       "      <td id=\"T_1e635_row9_col4\" class=\"data row9 col4\" >-0.122</td>\n",
       "      <td id=\"T_1e635_row9_col5\" class=\"data row9 col5\" >-0.268</td>\n",
       "      <td id=\"T_1e635_row9_col6\" class=\"data row9 col6\" >0.227</td>\n",
       "      <td id=\"T_1e635_row9_col7\" class=\"data row9 col7\" >-</td>\n",
       "      <td id=\"T_1e635_row9_col8\" class=\"data row9 col8\" >-0.125</td>\n",
       "      <td id=\"T_1e635_row9_col9\" class=\"data row9 col9\" >-0.105</td>\n",
       "      <td id=\"T_1e635_row9_col10\" class=\"data row9 col10\" >-</td>\n",
       "      <td id=\"T_1e635_row9_col11\" class=\"data row9 col11\" >-0.066</td>\n",
       "      <td id=\"T_1e635_row9_col12\" class=\"data row9 col12\" >-0.240</td>\n",
       "      <td id=\"T_1e635_row9_col13\" class=\"data row9 col13\" >-</td>\n",
       "    </tr>\n",
       "  </tbody>\n",
       "</table>\n"
      ],
      "text/plain": [
       "<pandas.io.formats.style.Styler at 0x7efe6bb84e20>"
      ]
     },
     "metadata": {},
     "output_type": "display_data"
    }
   ],
   "source": [
    "phenomics_RC = pd.DataFrame.from_records(relative_changes)\n",
    "_ = display_df(phenomics_RC, vmax=0.20, vmin=-0.20)"
   ]
  },
  {
   "cell_type": "code",
   "execution_count": 17,
   "metadata": {},
   "outputs": [
    {
     "name": "stdout",
     "output_type": "stream",
     "text": [
      "ph.COMPACTNESS\n",
      "ph.DW_SH_Total\n",
      "ph.FW_SH_Total\n",
      "ph.Fv.Fm\n",
      "ph.Num_Tubers\n",
      "ph.TOP.AREA\n",
      "ph.Total_Tubers_Weight\n",
      "ph.WATER.CONSUMPTION\n",
      "ph.deltaT\n",
      "ph.qL\n"
     ]
    }
   ],
   "source": [
    "# Add phenomics rc to main table\n",
    "for group, group_df in node_df.groupby(\"group\"):\n",
    "    if group == \"phenomics\":\n",
    "        for idx, g in group_df.iterrows():\n",
    "            print(idx)           \n",
    "            node_df.loc[idx, [f\"{day}.percent_relative_change\" for day in all_days]] = phenomics_RC.loc[g.name].values * 100"
   ]
  },
  {
   "cell_type": "code",
   "execution_count": 18,
   "metadata": {},
   "outputs": [
    {
     "data": {
      "text/plain": [
       "['D08.percent_relative_change',\n",
       " 'D14.percent_relative_change',\n",
       " 'D28.percent_relative_change',\n",
       " 'H01.percent_relative_change',\n",
       " 'H07.percent_relative_change',\n",
       " 'H08.percent_relative_change',\n",
       " 'H14.percent_relative_change',\n",
       " 'H28.percent_relative_change',\n",
       " 'HD08.percent_relative_change',\n",
       " 'HD14.percent_relative_change',\n",
       " 'HD28.percent_relative_change',\n",
       " 'W01.percent_relative_change',\n",
       " 'W07.percent_relative_change',\n",
       " 'W28.percent_relative_change']"
      ]
     },
     "execution_count": 18,
     "metadata": {},
     "output_type": "execute_result"
    }
   ],
   "source": [
    "RC_cols = [f\"{day}.percent_relative_change\" for day in all_days]; RC_cols"
   ]
  },
  {
   "cell_type": "markdown",
   "metadata": {},
   "source": [
    "## Parts of tables to LaTex"
   ]
  },
  {
   "cell_type": "code",
   "execution_count": 19,
   "metadata": {},
   "outputs": [
    {
     "data": {
      "text/html": [
       "<style type=\"text/css\">\n",
       "#T_01fe8_row0_col0 {\n",
       "  background-color: #e7c7c5;\n",
       "  color: #000000;\n",
       "}\n",
       "#T_01fe8_row0_col1 {\n",
       "  background-color: #e2bcb9;\n",
       "  color: #000000;\n",
       "}\n",
       "#T_01fe8_row0_col2 {\n",
       "  background-color: #f0dbda;\n",
       "  color: #000000;\n",
       "}\n",
       "#T_01fe8_row0_col3 {\n",
       "  background-color: #5782bc;\n",
       "  color: #f1f1f1;\n",
       "}\n",
       "#T_01fe8_row1_col0 {\n",
       "  background-color: #f7f4f4;\n",
       "  color: #000000;\n",
       "}\n",
       "#T_01fe8_row1_col1, #T_01fe8_row1_col2 {\n",
       "  background-color: #9fb0cc;\n",
       "  color: #000000;\n",
       "}\n",
       "#T_01fe8_row1_col3 {\n",
       "  background-color: #2c6dbc;\n",
       "  color: #f1f1f1;\n",
       "}\n",
       "</style>\n",
       "<table id=\"T_01fe8\">\n",
       "  <thead>\n",
       "    <tr>\n",
       "      <th class=\"blank level0\" >&nbsp;</th>\n",
       "      <th id=\"T_01fe8_level0_col0\" class=\"col_heading level0 col0\" >D28</th>\n",
       "      <th id=\"T_01fe8_level0_col1\" class=\"col_heading level0 col1\" >H28</th>\n",
       "      <th id=\"T_01fe8_level0_col2\" class=\"col_heading level0 col2\" >HD28</th>\n",
       "      <th id=\"T_01fe8_level0_col3\" class=\"col_heading level0 col3\" >W28</th>\n",
       "    </tr>\n",
       "  </thead>\n",
       "  <tbody>\n",
       "    <tr>\n",
       "      <th id=\"T_01fe8_level0_row0\" class=\"row_heading level0 row0\" >ph.Num_Tubers</th>\n",
       "      <td id=\"T_01fe8_row0_col0\" class=\"data row0 col0\" >0.260</td>\n",
       "      <td id=\"T_01fe8_row0_col1\" class=\"data row0 col1\" >0.320</td>\n",
       "      <td id=\"T_01fe8_row0_col2\" class=\"data row0 col2\" >0.160</td>\n",
       "      <td id=\"T_01fe8_row0_col3\" class=\"data row0 col3\" >-0.820</td>\n",
       "    </tr>\n",
       "    <tr>\n",
       "      <th id=\"T_01fe8_level0_row1\" class=\"row_heading level0 row1\" >ph.Total_Tubers_Weight</th>\n",
       "      <td id=\"T_01fe8_row1_col0\" class=\"data row1 col0\" >-0.046</td>\n",
       "      <td id=\"T_01fe8_row1_col1\" class=\"data row1 col1\" >-0.483</td>\n",
       "      <td id=\"T_01fe8_row1_col2\" class=\"data row1 col2\" >-0.484</td>\n",
       "      <td id=\"T_01fe8_row1_col3\" class=\"data row1 col3\" >-0.974</td>\n",
       "    </tr>\n",
       "  </tbody>\n",
       "</table>\n"
      ],
      "text/plain": [
       "<pandas.io.formats.style.Styler at 0x7efe6b8ccd60>"
      ]
     },
     "metadata": {},
     "output_type": "display_data"
    }
   ],
   "source": [
    "s = display_df(phenomics_RC.loc[[\"ph.Num_Tubers\", \"ph.Total_Tubers_Weight\"]][[\"D28\", \"H28\", \"HD28\", \"W28\"]])\n",
    "s.to_latex(output_dir / \"phenomics_28_rc.tex\", convert_css=True)"
   ]
  },
  {
   "cell_type": "code",
   "execution_count": 20,
   "metadata": {},
   "outputs": [
    {
     "data": {
      "text/html": [
       "<style type=\"text/css\">\n",
       "#T_1cc6b_row0_col0 {\n",
       "  background-color: #e6e6ec;\n",
       "  color: #000000;\n",
       "}\n",
       "#T_1cc6b_row0_col1 {\n",
       "  background-color: #6a8dbf;\n",
       "  color: #f1f1f1;\n",
       "}\n",
       "#T_1cc6b_row0_col2 {\n",
       "  background-color: #a8b7cf;\n",
       "  color: #000000;\n",
       "}\n",
       "#T_1cc6b_row0_col3 {\n",
       "  background-color: #b04748;\n",
       "  color: #f1f1f1;\n",
       "}\n",
       "#T_1cc6b_row1_col0, #T_1cc6b_row11_col1, #T_1cc6b_row17_col2 {\n",
       "  background-color: #c5cddb;\n",
       "  color: #000000;\n",
       "}\n",
       "#T_1cc6b_row1_col1 {\n",
       "  background-color: #6f91bf;\n",
       "  color: #f1f1f1;\n",
       "}\n",
       "#T_1cc6b_row1_col2 {\n",
       "  background-color: #cbd1de;\n",
       "  color: #000000;\n",
       "}\n",
       "#T_1cc6b_row1_col3, #T_1cc6b_row2_col3, #T_1cc6b_row3_col3, #T_1cc6b_row5_col3, #T_1cc6b_row7_col2, #T_1cc6b_row8_col3, #T_1cc6b_row9_col3, #T_1cc6b_row10_col3, #T_1cc6b_row11_col3, #T_1cc6b_row15_col3, #T_1cc6b_row16_col3, #T_1cc6b_row18_col3, #T_1cc6b_row19_col3 {\n",
       "  background-color: #a9373b;\n",
       "  color: #f1f1f1;\n",
       "}\n",
       "#T_1cc6b_row2_col0 {\n",
       "  background-color: #e9e9ed;\n",
       "  color: #000000;\n",
       "}\n",
       "#T_1cc6b_row2_col1 {\n",
       "  background-color: #98acc9;\n",
       "  color: #f1f1f1;\n",
       "}\n",
       "#T_1cc6b_row2_col2 {\n",
       "  background-color: #dcdee6;\n",
       "  color: #000000;\n",
       "}\n",
       "#T_1cc6b_row3_col0 {\n",
       "  background-color: #ecebef;\n",
       "  color: #000000;\n",
       "}\n",
       "#T_1cc6b_row3_col1 {\n",
       "  background-color: #f8f4f5;\n",
       "  color: #000000;\n",
       "}\n",
       "#T_1cc6b_row3_col2 {\n",
       "  background-color: #f0dbda;\n",
       "  color: #000000;\n",
       "}\n",
       "#T_1cc6b_row4_col0 {\n",
       "  background-color: #eed7d5;\n",
       "  color: #000000;\n",
       "}\n",
       "#T_1cc6b_row4_col1, #T_1cc6b_row7_col3, #T_1cc6b_row19_col2, #T_1cc6b_row20_col0 {\n",
       "  background-color: #b7c2d5;\n",
       "  color: #000000;\n",
       "}\n",
       "#T_1cc6b_row4_col2 {\n",
       "  background-color: #d49896;\n",
       "  color: #f1f1f1;\n",
       "}\n",
       "#T_1cc6b_row4_col3 {\n",
       "  background-color: #c3706e;\n",
       "  color: #f1f1f1;\n",
       "}\n",
       "#T_1cc6b_row5_col0, #T_1cc6b_row20_col3 {\n",
       "  background-color: #f5f2f4;\n",
       "  color: #000000;\n",
       "}\n",
       "#T_1cc6b_row5_col1 {\n",
       "  background-color: #8fa5c7;\n",
       "  color: #f1f1f1;\n",
       "}\n",
       "#T_1cc6b_row5_col2 {\n",
       "  background-color: #eeedf0;\n",
       "  color: #000000;\n",
       "}\n",
       "#T_1cc6b_row6_col0 {\n",
       "  background-color: #d4d8e2;\n",
       "  color: #000000;\n",
       "}\n",
       "#T_1cc6b_row6_col1 {\n",
       "  background-color: #afbcd1;\n",
       "  color: #000000;\n",
       "}\n",
       "#T_1cc6b_row6_col2, #T_1cc6b_row8_col0, #T_1cc6b_row11_col0, #T_1cc6b_row21_col2 {\n",
       "  background-color: #c3cbda;\n",
       "  color: #000000;\n",
       "}\n",
       "#T_1cc6b_row6_col3 {\n",
       "  background-color: #f7eae8;\n",
       "  color: #000000;\n",
       "}\n",
       "#T_1cc6b_row7_col0 {\n",
       "  background-color: #97abc9;\n",
       "  color: #f1f1f1;\n",
       "}\n",
       "#T_1cc6b_row7_col1 {\n",
       "  background-color: #b34d4e;\n",
       "  color: #f1f1f1;\n",
       "}\n",
       "#T_1cc6b_row8_col1 {\n",
       "  background-color: #507ebc;\n",
       "  color: #f1f1f1;\n",
       "}\n",
       "#T_1cc6b_row8_col2, #T_1cc6b_row17_col3 {\n",
       "  background-color: #8da4c6;\n",
       "  color: #f1f1f1;\n",
       "}\n",
       "#T_1cc6b_row9_col0 {\n",
       "  background-color: #aab8d0;\n",
       "  color: #000000;\n",
       "}\n",
       "#T_1cc6b_row9_col1 {\n",
       "  background-color: #7997c1;\n",
       "  color: #f1f1f1;\n",
       "}\n",
       "#T_1cc6b_row9_col2, #T_1cc6b_row10_col2 {\n",
       "  background-color: #bfc8d8;\n",
       "  color: #000000;\n",
       "}\n",
       "#T_1cc6b_row10_col0 {\n",
       "  background-color: #cfd4e0;\n",
       "  color: #000000;\n",
       "}\n",
       "#T_1cc6b_row10_col1 {\n",
       "  background-color: #92a7c8;\n",
       "  color: #f1f1f1;\n",
       "}\n",
       "#T_1cc6b_row11_col2 {\n",
       "  background-color: #f2f0f2;\n",
       "  color: #000000;\n",
       "}\n",
       "#T_1cc6b_row12_col0 {\n",
       "  background-color: #9fb0cc;\n",
       "  color: #000000;\n",
       "}\n",
       "#T_1cc6b_row12_col1 {\n",
       "  background-color: #4879bc;\n",
       "  color: #f1f1f1;\n",
       "}\n",
       "#T_1cc6b_row12_col2 {\n",
       "  background-color: #658abe;\n",
       "  color: #f1f1f1;\n",
       "}\n",
       "#T_1cc6b_row12_col3 {\n",
       "  background-color: #d9a5a2;\n",
       "  color: #000000;\n",
       "}\n",
       "#T_1cc6b_row13_col0, #T_1cc6b_row15_col0 {\n",
       "  background-color: #d0d5e0;\n",
       "  color: #000000;\n",
       "}\n",
       "#T_1cc6b_row13_col1 {\n",
       "  background-color: #5782bc;\n",
       "  color: #f1f1f1;\n",
       "}\n",
       "#T_1cc6b_row13_col2 {\n",
       "  background-color: #9dafcb;\n",
       "  color: #000000;\n",
       "}\n",
       "#T_1cc6b_row13_col3 {\n",
       "  background-color: #daa9a7;\n",
       "  color: #000000;\n",
       "}\n",
       "#T_1cc6b_row14_col0 {\n",
       "  background-color: #b2bed3;\n",
       "  color: #000000;\n",
       "}\n",
       "#T_1cc6b_row14_col1, #T_1cc6b_row14_col2, #T_1cc6b_row14_col3 {\n",
       "  background-color: #2369bd;\n",
       "  color: #f1f1f1;\n",
       "}\n",
       "#T_1cc6b_row15_col1 {\n",
       "  background-color: #e7e7ec;\n",
       "  color: #000000;\n",
       "}\n",
       "#T_1cc6b_row15_col2 {\n",
       "  background-color: #faf3f3;\n",
       "  color: #000000;\n",
       "}\n",
       "#T_1cc6b_row16_col0, #T_1cc6b_row21_col0 {\n",
       "  background-color: #e4e5eb;\n",
       "  color: #000000;\n",
       "}\n",
       "#T_1cc6b_row16_col1 {\n",
       "  background-color: #87a0c4;\n",
       "  color: #f1f1f1;\n",
       "}\n",
       "#T_1cc6b_row16_col2 {\n",
       "  background-color: #b5c0d4;\n",
       "  color: #000000;\n",
       "}\n",
       "#T_1cc6b_row17_col0 {\n",
       "  background-color: #f5e5e4;\n",
       "  color: #000000;\n",
       "}\n",
       "#T_1cc6b_row17_col1 {\n",
       "  background-color: #abb9d0;\n",
       "  color: #000000;\n",
       "}\n",
       "#T_1cc6b_row18_col0 {\n",
       "  background-color: #faf5f4;\n",
       "  color: #000000;\n",
       "}\n",
       "#T_1cc6b_row18_col1 {\n",
       "  background-color: #faf4f3;\n",
       "  color: #000000;\n",
       "}\n",
       "#T_1cc6b_row18_col2 {\n",
       "  background-color: #d59c99;\n",
       "  color: #f1f1f1;\n",
       "}\n",
       "#T_1cc6b_row19_col0 {\n",
       "  background-color: #f1eff2;\n",
       "  color: #000000;\n",
       "}\n",
       "#T_1cc6b_row19_col1 {\n",
       "  background-color: #6087bd;\n",
       "  color: #f1f1f1;\n",
       "}\n",
       "#T_1cc6b_row20_col1 {\n",
       "  background-color: #5581bc;\n",
       "  color: #f1f1f1;\n",
       "}\n",
       "#T_1cc6b_row20_col2 {\n",
       "  background-color: #698cbe;\n",
       "  color: #f1f1f1;\n",
       "}\n",
       "#T_1cc6b_row21_col1 {\n",
       "  background-color: #7e9ac2;\n",
       "  color: #f1f1f1;\n",
       "}\n",
       "#T_1cc6b_row21_col3 {\n",
       "  background-color: #ac3e40;\n",
       "  color: #f1f1f1;\n",
       "}\n",
       "</style>\n",
       "<table id=\"T_1cc6b\">\n",
       "  <thead>\n",
       "    <tr>\n",
       "      <th class=\"blank level0\" >&nbsp;</th>\n",
       "      <th id=\"T_1cc6b_level0_col0\" class=\"col_heading level0 col0\" >D28.l</th>\n",
       "      <th id=\"T_1cc6b_level0_col1\" class=\"col_heading level0 col1\" >H28.l</th>\n",
       "      <th id=\"T_1cc6b_level0_col2\" class=\"col_heading level0 col2\" >HD28.</th>\n",
       "      <th id=\"T_1cc6b_level0_col3\" class=\"col_heading level0 col3\" >W28.l</th>\n",
       "    </tr>\n",
       "    <tr>\n",
       "      <th class=\"index_name level0\" >name</th>\n",
       "      <th class=\"blank col0\" >&nbsp;</th>\n",
       "      <th class=\"blank col1\" >&nbsp;</th>\n",
       "      <th class=\"blank col2\" >&nbsp;</th>\n",
       "      <th class=\"blank col3\" >&nbsp;</th>\n",
       "    </tr>\n",
       "  </thead>\n",
       "  <tbody>\n",
       "    <tr>\n",
       "      <th id=\"T_1cc6b_level0_row0\" class=\"row_heading level0 row0\" >me.Ala</th>\n",
       "      <td id=\"T_1cc6b_row0_col0\" class=\"data row0 col0\" >-0.137</td>\n",
       "      <td id=\"T_1cc6b_row0_col1\" class=\"data row0 col1\" >-0.731</td>\n",
       "      <td id=\"T_1cc6b_row0_col2\" class=\"data row0 col2\" >-0.437</td>\n",
       "      <td id=\"T_1cc6b_row0_col3\" class=\"data row0 col3\" >0.919</td>\n",
       "    </tr>\n",
       "    <tr>\n",
       "      <th id=\"T_1cc6b_level0_row1\" class=\"row_heading level0 row1\" >me.Arg</th>\n",
       "      <td id=\"T_1cc6b_row1_col0\" class=\"data row1 col0\" >-0.291</td>\n",
       "      <td id=\"T_1cc6b_row1_col1\" class=\"data row1 col1\" >-0.710</td>\n",
       "      <td id=\"T_1cc6b_row1_col2\" class=\"data row1 col2\" >-0.262</td>\n",
       "      <td id=\"T_1cc6b_row1_col3\" class=\"data row1 col3\" >1.588</td>\n",
       "    </tr>\n",
       "    <tr>\n",
       "      <th id=\"T_1cc6b_level0_row2\" class=\"row_heading level0 row2\" >me.Asn</th>\n",
       "      <td id=\"T_1cc6b_row2_col0\" class=\"data row2 col0\" >-0.124</td>\n",
       "      <td id=\"T_1cc6b_row2_col1\" class=\"data row2 col1\" >-0.508</td>\n",
       "      <td id=\"T_1cc6b_row2_col2\" class=\"data row2 col2\" >-0.187</td>\n",
       "      <td id=\"T_1cc6b_row2_col3\" class=\"data row2 col3\" >2.802</td>\n",
       "    </tr>\n",
       "    <tr>\n",
       "      <th id=\"T_1cc6b_level0_row3\" class=\"row_heading level0 row3\" >me.Asp</th>\n",
       "      <td id=\"T_1cc6b_row3_col0\" class=\"data row3 col0\" >-0.107</td>\n",
       "      <td id=\"T_1cc6b_row3_col1\" class=\"data row3 col1\" >-0.038</td>\n",
       "      <td id=\"T_1cc6b_row3_col2\" class=\"data row3 col2\" >0.164</td>\n",
       "      <td id=\"T_1cc6b_row3_col3\" class=\"data row3 col3\" >1.230</td>\n",
       "    </tr>\n",
       "    <tr>\n",
       "      <th id=\"T_1cc6b_level0_row4\" class=\"row_heading level0 row4\" >me.Fructose</th>\n",
       "      <td id=\"T_1cc6b_row4_col0\" class=\"data row4 col0\" >0.185</td>\n",
       "      <td id=\"T_1cc6b_row4_col1\" class=\"data row4 col1\" >-0.362</td>\n",
       "      <td id=\"T_1cc6b_row4_col2\" class=\"data row4 col2\" >0.497</td>\n",
       "      <td id=\"T_1cc6b_row4_col3\" class=\"data row4 col3\" >0.708</td>\n",
       "    </tr>\n",
       "    <tr>\n",
       "      <th id=\"T_1cc6b_level0_row5\" class=\"row_heading level0 row5\" >me.Gln</th>\n",
       "      <td id=\"T_1cc6b_row5_col0\" class=\"data row5 col0\" >-0.056</td>\n",
       "      <td id=\"T_1cc6b_row5_col1\" class=\"data row5 col1\" >-0.562</td>\n",
       "      <td id=\"T_1cc6b_row5_col2\" class=\"data row5 col2\" >-0.098</td>\n",
       "      <td id=\"T_1cc6b_row5_col3\" class=\"data row5 col3\" >2.611</td>\n",
       "    </tr>\n",
       "    <tr>\n",
       "      <th id=\"T_1cc6b_level0_row6\" class=\"row_heading level0 row6\" >me.Glu</th>\n",
       "      <td id=\"T_1cc6b_row6_col0\" class=\"data row6 col0\" >-0.225</td>\n",
       "      <td id=\"T_1cc6b_row6_col1\" class=\"data row6 col1\" >-0.404</td>\n",
       "      <td id=\"T_1cc6b_row6_col2\" class=\"data row6 col2\" >-0.299</td>\n",
       "      <td id=\"T_1cc6b_row6_col3\" class=\"data row6 col3\" >0.091</td>\n",
       "    </tr>\n",
       "    <tr>\n",
       "      <th id=\"T_1cc6b_level0_row7\" class=\"row_heading level0 row7\" >me.Glukose</th>\n",
       "      <td id=\"T_1cc6b_row7_col0\" class=\"data row7 col0\" >-0.520</td>\n",
       "      <td id=\"T_1cc6b_row7_col1\" class=\"data row7 col1\" >0.886</td>\n",
       "      <td id=\"T_1cc6b_row7_col2\" class=\"data row7 col2\" >1.026</td>\n",
       "      <td id=\"T_1cc6b_row7_col3\" class=\"data row7 col3\" >-0.363</td>\n",
       "    </tr>\n",
       "    <tr>\n",
       "      <th id=\"T_1cc6b_level0_row8\" class=\"row_heading level0 row8\" >me.Gly</th>\n",
       "      <td id=\"T_1cc6b_row8_col0\" class=\"data row8 col0\" >-0.300</td>\n",
       "      <td id=\"T_1cc6b_row8_col1\" class=\"data row8 col1\" >-0.846</td>\n",
       "      <td id=\"T_1cc6b_row8_col2\" class=\"data row8 col2\" >-0.568</td>\n",
       "      <td id=\"T_1cc6b_row8_col3\" class=\"data row8 col3\" >1.045</td>\n",
       "    </tr>\n",
       "    <tr>\n",
       "      <th id=\"T_1cc6b_level0_row9\" class=\"row_heading level0 row9\" >me.His</th>\n",
       "      <td id=\"T_1cc6b_row9_col0\" class=\"data row9 col0\" >-0.428</td>\n",
       "      <td id=\"T_1cc6b_row9_col1\" class=\"data row9 col1\" >-0.664</td>\n",
       "      <td id=\"T_1cc6b_row9_col2\" class=\"data row9 col2\" >-0.322</td>\n",
       "      <td id=\"T_1cc6b_row9_col3\" class=\"data row9 col3\" >1.546</td>\n",
       "    </tr>\n",
       "    <tr>\n",
       "      <th id=\"T_1cc6b_level0_row10\" class=\"row_heading level0 row10\" >me.Ile</th>\n",
       "      <td id=\"T_1cc6b_row10_col0\" class=\"data row10 col0\" >-0.250</td>\n",
       "      <td id=\"T_1cc6b_row10_col1\" class=\"data row10 col1\" >-0.542</td>\n",
       "      <td id=\"T_1cc6b_row10_col2\" class=\"data row10 col2\" >-0.323</td>\n",
       "      <td id=\"T_1cc6b_row10_col3\" class=\"data row10 col3\" >1.001</td>\n",
       "    </tr>\n",
       "    <tr>\n",
       "      <th id=\"T_1cc6b_level0_row11\" class=\"row_heading level0 row11\" >me.Leu</th>\n",
       "      <td id=\"T_1cc6b_row11_col0\" class=\"data row11 col0\" >-0.298</td>\n",
       "      <td id=\"T_1cc6b_row11_col1\" class=\"data row11 col1\" >-0.295</td>\n",
       "      <td id=\"T_1cc6b_row11_col2\" class=\"data row11 col2\" >-0.075</td>\n",
       "      <td id=\"T_1cc6b_row11_col3\" class=\"data row11 col3\" >1.017</td>\n",
       "    </tr>\n",
       "    <tr>\n",
       "      <th id=\"T_1cc6b_level0_row12\" class=\"row_heading level0 row12\" >me.Lys</th>\n",
       "      <td id=\"T_1cc6b_row12_col0\" class=\"data row12 col0\" >-0.477</td>\n",
       "      <td id=\"T_1cc6b_row12_col1\" class=\"data row12 col1\" >-0.876</td>\n",
       "      <td id=\"T_1cc6b_row12_col2\" class=\"data row12 col2\" >-0.753</td>\n",
       "      <td id=\"T_1cc6b_row12_col3\" class=\"data row12 col3\" >0.434</td>\n",
       "    </tr>\n",
       "    <tr>\n",
       "      <th id=\"T_1cc6b_level0_row13\" class=\"row_heading level0 row13\" >me.Met</th>\n",
       "      <td id=\"T_1cc6b_row13_col0\" class=\"data row13 col0\" >-0.239</td>\n",
       "      <td id=\"T_1cc6b_row13_col1\" class=\"data row13 col1\" >-0.817</td>\n",
       "      <td id=\"T_1cc6b_row13_col2\" class=\"data row13 col2\" >-0.485</td>\n",
       "      <td id=\"T_1cc6b_row13_col3\" class=\"data row13 col3\" >0.408</td>\n",
       "    </tr>\n",
       "    <tr>\n",
       "      <th id=\"T_1cc6b_level0_row14\" class=\"row_heading level0 row14\" >me.Phe</th>\n",
       "      <td id=\"T_1cc6b_row14_col0\" class=\"data row14 col0\" >-0.389</td>\n",
       "      <td id=\"T_1cc6b_row14_col1\" class=\"data row14 col1\" >-1.437</td>\n",
       "      <td id=\"T_1cc6b_row14_col2\" class=\"data row14 col2\" >-1.090</td>\n",
       "      <td id=\"T_1cc6b_row14_col3\" class=\"data row14 col3\" >-1.158</td>\n",
       "    </tr>\n",
       "    <tr>\n",
       "      <th id=\"T_1cc6b_level0_row15\" class=\"row_heading level0 row15\" >me.Pro</th>\n",
       "      <td id=\"T_1cc6b_row15_col0\" class=\"data row15 col0\" >-0.241</td>\n",
       "      <td id=\"T_1cc6b_row15_col1\" class=\"data row15 col1\" >-0.131</td>\n",
       "      <td id=\"T_1cc6b_row15_col2\" class=\"data row15 col2\" >0.028</td>\n",
       "      <td id=\"T_1cc6b_row15_col3\" class=\"data row15 col3\" >2.850</td>\n",
       "    </tr>\n",
       "    <tr>\n",
       "      <th id=\"T_1cc6b_level0_row16\" class=\"row_heading level0 row16\" >me.Ser</th>\n",
       "      <td id=\"T_1cc6b_row16_col0\" class=\"data row16 col0\" >-0.146</td>\n",
       "      <td id=\"T_1cc6b_row16_col1\" class=\"data row16 col1\" >-0.595</td>\n",
       "      <td id=\"T_1cc6b_row16_col2\" class=\"data row16 col2\" >-0.374</td>\n",
       "      <td id=\"T_1cc6b_row16_col3\" class=\"data row16 col3\" >1.447</td>\n",
       "    </tr>\n",
       "    <tr>\n",
       "      <th id=\"T_1cc6b_level0_row17\" class=\"row_heading level0 row17\" >me.Starch</th>\n",
       "      <td id=\"T_1cc6b_row17_col0\" class=\"data row17 col0\" >0.115</td>\n",
       "      <td id=\"T_1cc6b_row17_col1\" class=\"data row17 col1\" >-0.419</td>\n",
       "      <td id=\"T_1cc6b_row17_col2\" class=\"data row17 col2\" >-0.289</td>\n",
       "      <td id=\"T_1cc6b_row17_col3\" class=\"data row17 col3\" >-0.563</td>\n",
       "    </tr>\n",
       "    <tr>\n",
       "      <th id=\"T_1cc6b_level0_row18\" class=\"row_heading level0 row18\" >me.Sucrose</th>\n",
       "      <td id=\"T_1cc6b_row18_col0\" class=\"data row18 col0\" >0.014</td>\n",
       "      <td id=\"T_1cc6b_row18_col1\" class=\"data row18 col1\" >0.019</td>\n",
       "      <td id=\"T_1cc6b_row18_col2\" class=\"data row18 col2\" >0.480</td>\n",
       "      <td id=\"T_1cc6b_row18_col3\" class=\"data row18 col3\" >2.050</td>\n",
       "    </tr>\n",
       "    <tr>\n",
       "      <th id=\"T_1cc6b_level0_row19\" class=\"row_heading level0 row19\" >me.Thr</th>\n",
       "      <td id=\"T_1cc6b_row19_col0\" class=\"data row19 col0\" >-0.083</td>\n",
       "      <td id=\"T_1cc6b_row19_col1\" class=\"data row19 col1\" >-0.775</td>\n",
       "      <td id=\"T_1cc6b_row19_col2\" class=\"data row19 col2\" >-0.365</td>\n",
       "      <td id=\"T_1cc6b_row19_col3\" class=\"data row19 col3\" >1.189</td>\n",
       "    </tr>\n",
       "    <tr>\n",
       "      <th id=\"T_1cc6b_level0_row20\" class=\"row_heading level0 row20\" >me.Tyr</th>\n",
       "      <td id=\"T_1cc6b_row20_col0\" class=\"data row20 col0\" >-0.361</td>\n",
       "      <td id=\"T_1cc6b_row20_col1\" class=\"data row20 col1\" >-0.824</td>\n",
       "      <td id=\"T_1cc6b_row20_col2\" class=\"data row20 col2\" >-0.742</td>\n",
       "      <td id=\"T_1cc6b_row20_col3\" class=\"data row20 col3\" >-0.059</td>\n",
       "    </tr>\n",
       "    <tr>\n",
       "      <th id=\"T_1cc6b_level0_row21\" class=\"row_heading level0 row21\" >me.Val</th>\n",
       "      <td id=\"T_1cc6b_row21_col0\" class=\"data row21 col0\" >-0.141</td>\n",
       "      <td id=\"T_1cc6b_row21_col1\" class=\"data row21 col1\" >-0.640</td>\n",
       "      <td id=\"T_1cc6b_row21_col2\" class=\"data row21 col2\" >-0.301</td>\n",
       "      <td id=\"T_1cc6b_row21_col3\" class=\"data row21 col3\" >0.963</td>\n",
       "    </tr>\n",
       "  </tbody>\n",
       "</table>\n"
      ],
      "text/plain": [
       "<pandas.io.formats.style.Styler at 0x7efe6b96beb0>"
      ]
     },
     "metadata": {},
     "output_type": "display_data"
    }
   ],
   "source": [
    "s = display_df(node_df[node_df[\"group\"]==\"metabolomics\"][[\"D28.logFC\", \"H28.logFC\", \"HD28.logFC\", \"W28.logFC\"]].dropna(how=\"all\"),\n",
    "          vmax=1, vmin=-1)\n",
    "s.to_latex(output_dir / \"metabolomics_28_logfc.tex\", convert_css=True)"
   ]
  },
  {
   "cell_type": "markdown",
   "metadata": {},
   "source": [
    "## Cytoscape"
   ]
  },
  {
   "cell_type": "markdown",
   "metadata": {},
   "source": [
    "### Add colour scale column to node table"
   ]
  },
  {
   "cell_type": "markdown",
   "metadata": {},
   "source": [
    "In Cytoscape, can only use one column to define a colour mapping. Thus need to create a combined column to map log fold change (FC) and relative change (RC) to  node fill colour. The colum is created by combining FC with RC, adding an buffer to the RC, so the colour scale is (simplified):\n",
    "\n",
    "    logFC_min ~ 0 ~ logFC_max ~ buffer ~ rc_min+buffer ~ 0+buffer ~ rc_max+buffer\n"
   ]
  },
  {
   "cell_type": "code",
   "execution_count": 21,
   "metadata": {},
   "outputs": [
    {
     "data": {
      "text/plain": [
       "(-3.82922465300375, 7.68224512114979)"
      ]
     },
     "execution_count": 21,
     "metadata": {},
     "output_type": "execute_result"
    }
   ],
   "source": [
    "logfc_min = raw_logfc_df[logFC_cols].min().min()\n",
    "logfc_max = raw_logfc_df[logFC_cols].max().max()\n",
    "logfc_min, logfc_max"
   ]
  },
  {
   "cell_type": "code",
   "execution_count": 22,
   "metadata": {},
   "outputs": [
    {
     "data": {
      "text/plain": [
       "10"
      ]
     },
     "execution_count": 22,
     "metadata": {},
     "output_type": "execute_result"
    }
   ],
   "source": [
    "neat_logfc_max = math.ceil(logfc_max / 10.0) * 10; neat_logfc_max"
   ]
  },
  {
   "cell_type": "code",
   "execution_count": 23,
   "metadata": {},
   "outputs": [
    {
     "data": {
      "text/plain": [
       "(-0.9740353263587446, 1.373535335160306)"
      ]
     },
     "execution_count": 23,
     "metadata": {},
     "output_type": "execute_result"
    }
   ],
   "source": [
    "rc_min = node_df[RC_cols].min().min()/100\n",
    "rc_max = node_df[RC_cols].max().max()/100\n",
    "rc_min, rc_max"
   ]
  },
  {
   "cell_type": "code",
   "execution_count": 24,
   "metadata": {
    "scrolled": true
   },
   "outputs": [
    {
     "data": {
      "text/plain": [
       "-10"
      ]
     },
     "execution_count": 24,
     "metadata": {},
     "output_type": "execute_result"
    }
   ],
   "source": [
    "neat_rc_min = -math.ceil(abs(rc_min) / 10.0) * 10; neat_rc_min"
   ]
  },
  {
   "cell_type": "code",
   "execution_count": 25,
   "metadata": {},
   "outputs": [
    {
     "data": {
      "text/plain": [
       "25"
      ]
     },
     "execution_count": 25,
     "metadata": {},
     "output_type": "execute_result"
    }
   ],
   "source": [
    "buffer = 5\n",
    "phenomics_offset = neat_logfc_max - neat_rc_min + buffer; phenomics_offset"
   ]
  },
  {
   "cell_type": "code",
   "execution_count": 26,
   "metadata": {},
   "outputs": [
    {
     "name": "stdout",
     "output_type": "stream",
     "text": [
      "ph.COMPACTNESS\n",
      "ph.DW_SH_Total\n",
      "ph.FW_SH_Total\n",
      "ph.Fv.Fm\n",
      "ph.Num_Tubers\n",
      "ph.TOP.AREA\n",
      "ph.Total_Tubers_Weight\n",
      "ph.WATER.CONSUMPTION\n",
      "ph.deltaT\n",
      "ph.qL\n"
     ]
    }
   ],
   "source": [
    "# Add a colour coloum of log FC or RC + offset\n",
    "for group, group_df in node_df.groupby(\"group\"):\n",
    "    if group == \"phenomics\":\n",
    "        for idx, g in group_df.iterrows():\n",
    "            print(idx)\n",
    "            node_df.loc[idx, [f\"{day}.color\" for day in all_days]] = phenomics_RC.loc[g.name].values + phenomics_offset\n",
    "    else:\n",
    "        for idx, g in group_df.iterrows():       \n",
    "            node_df.loc[idx, [f\"{day}.color\" for day in all_days]] = node_df.loc[idx, [f\"{day}.logFC\" for day in all_days]].values"
   ]
  },
  {
   "cell_type": "markdown",
   "metadata": {},
   "source": [
    "### Connect and set up Cytoscape"
   ]
  },
  {
   "cell_type": "code",
   "execution_count": 27,
   "metadata": {},
   "outputs": [
    {
     "name": "stdout",
     "output_type": "stream",
     "text": [
      "You are connected to Cytoscape!\n"
     ]
    }
   ],
   "source": [
    "_=p4c.cytoscape_ping()"
   ]
  },
  {
   "cell_type": "code",
   "execution_count": 28,
   "metadata": {},
   "outputs": [],
   "source": [
    "def _cytoscape_safe_names(names):\n",
    "    '''Escape names for Cystoscape '''\n",
    "    return [x.replace(\",\", r\"\\,\") for x in list(set(names))]\n"
   ]
  },
  {
   "cell_type": "code",
   "execution_count": 29,
   "metadata": {},
   "outputs": [],
   "source": [
    "def read_graph(path, data=None, create_using=nx.MultiDiGraph, message=True, end=\"  \",  header=False, corr_type=None):\n",
    "    if data == None:\n",
    "        data = [('weight', float), ('data_source', str), ('treatment', str)]\n",
    "        \n",
    "    with open(path, \"rb\") as handle:\n",
    "        if header:\n",
    "            handle.readline()\n",
    "        g = nx.read_edgelist(handle, delimiter=\"\\t\", create_using=create_using, data=data)\n",
    "\n",
    "    if corr_type:\n",
    "        nx.set_edge_attributes(g, {e: corr_type for e in g.edges(keys=True)}, 'interaction')\n",
    "    \n",
    "    if message:\n",
    "        print(f\"{g.number_of_nodes()}, {g.number_of_edges()}\", end=end)\n",
    "    return g\n"
   ]
  },
  {
   "cell_type": "code",
   "execution_count": 30,
   "metadata": {},
   "outputs": [],
   "source": [
    "info_columns = [\n",
    "    'display_name',\n",
    "    'group',\n",
    "    'description',\n",
    "    'mapman_bin',\n",
    "    'protein_name',\n",
    "    'short_name',\n",
    "    'pathway'\n",
    "]\n",
    "logFC_columns = [\n",
    "    day + x for day in sorted(all_days) for x in [\n",
    "    '.logFC',  \n",
    "    '.percent_relative_change',\n",
    "    '.color',\n",
    "    ]\n",
    "]\n",
    "sig_columns = [\n",
    "    day + '.source' for day in sorted(all_days) \n",
    "]\n",
    "\n",
    "column_load_order = info_columns + logFC_columns"
   ]
  },
  {
   "cell_type": "code",
   "execution_count": 31,
   "metadata": {},
   "outputs": [],
   "source": [
    "def load_table(node_table, network, G):\n",
    "    node_table_copy = node_table.loc[list(G.nodes())].copy()\n",
    "    for c in column_load_order:\n",
    "        if (c in node_table_copy):\n",
    "            table = node_table_copy[[c]].dropna().reset_index()\n",
    "            \n",
    "            if c.split('.')[0] in all_days:\n",
    "                col = f\"{c.split('.')[0]}::{c}\"\n",
    "                table.columns = [\"name\", col]\n",
    "            \n",
    "            if table.shape[0] > 0:\n",
    "                print(c, table.shape[0])\n",
    "                p4c.load_table_data(\n",
    "                    table, \n",
    "                    data_key_column=\"name\",\n",
    "                    table='node', table_key_column='name',\n",
    "                    network=network\n",
    "                )    \n",
    "    \n",
    "    "
   ]
  },
  {
   "cell_type": "code",
   "execution_count": 32,
   "metadata": {},
   "outputs": [],
   "source": [
    "def to_cytoscape(G, title=\"TEST\", collection=\"TEST\", layout_alg=\"cose\", relayout=False, copycat=None, style=\"weight\", \n",
    "                 node_table=None):\n",
    "    with redirect_stdout(fake_logger), redirect_stderr(fake_logger):\n",
    "        cy_suid = p4c.networks.create_network_from_networkx(G, title=title, collection=collection)\n",
    "        print(copycat, 'copcat')\n",
    "        \n",
    "        if copycat:\n",
    "            print(copycat)\n",
    "            p4c.layouts.layout_copycat(copycat, cy_suid)\n",
    "        \n",
    "        if layout_alg and not copycat:\n",
    "            p4c.layouts.layout_network(layout_alg, network=cy_suid)\n",
    "        \n",
    "        p4c.styles.set_visual_style(style, network=cy_suid)         \n",
    "        \n",
    "        if node_table is not None:\n",
    "\n",
    "            node_table_copy = node_table.loc[list(G.nodes())].copy()\n",
    "            for c in column_load_order:\n",
    "                if (c in node_table_copy):\n",
    "                    table = node_table_copy[[c]].dropna().reset_index()\n",
    "                    if table.shape[0] > 0:\n",
    "                        print(c, table.shape[0])\n",
    "                        p4c.load_table_data(\n",
    "                            node_table_copy[[c]].dropna().reset_index(), \n",
    "                            data_key_column=\"name\",\n",
    "                            table='node', table_key_column='name',\n",
    "                            network=cy_suid\n",
    "                        )\n",
    "\n",
    "        if relayout:\n",
    "            relyt_suid = p4c.networks.create_subnetwork(nodes='all', \n",
    "                                                           nodes_by_col=\"SUID\", \n",
    "                                                           subnetwork_name=\"cose layout\", \n",
    "                                                           network=cy_suid)\n",
    "            p4c.layouts.layout_network(layout_alg, network=relyt_suid)\n",
    "            p4c.styles.set_visual_style(style, network=relyt_suid)\n",
    "        \n",
    "        else:\n",
    "            relyt_suid = None\n",
    "        \n",
    "    return cy_suid, relyt_suid\n"
   ]
  },
  {
   "cell_type": "markdown",
   "metadata": {},
   "source": [
    "## Biochem graph"
   ]
  },
  {
   "cell_type": "code",
   "execution_count": 33,
   "metadata": {},
   "outputs": [
    {
     "name": "stdout",
     "output_type": "stream",
     "text": [
      "90, 94  "
     ]
    },
    {
     "data": {
      "text/plain": [
       "<networkx.classes.multidigraph.MultiDiGraph at 0x7efe6b907af0>"
      ]
     },
     "execution_count": 33,
     "metadata": {},
     "output_type": "execute_result"
    }
   ],
   "source": [
    "biochem_graph = read_graph(input_dir/ \"KnowledgeNetwork-biochem.tsv\", data=[(\"interaction\", str)], message=True, header=True)\n",
    "biochem_graph"
   ]
  },
  {
   "cell_type": "markdown",
   "metadata": {},
   "source": [
    "## Styles"
   ]
  },
  {
   "cell_type": "markdown",
   "metadata": {},
   "source": [
    "Open manually prepared cytoscape session. "
   ]
  },
  {
   "cell_type": "code",
   "execution_count": 34,
   "metadata": {},
   "outputs": [
    {
     "name": "stdout",
     "output_type": "stream",
     "text": [
      "Opening /home/cbleker/research/NIB/projects/ADAPT/pilot-networks/multiOmics-integration/_p_ADAPTOmics/_I_Desiree/_S_multiOmics/_A_multiOmics-visualisation-Py/input/biochem-net-basis.cys...\n"
     ]
    },
    {
     "data": {
      "text/plain": [
       "109032"
      ]
     },
     "execution_count": 34,
     "metadata": {},
     "output_type": "execute_result"
    }
   ],
   "source": [
    "blank_session_file = base_dir / \"input\" / f\"biochem-net-basis.cys\" \n",
    "session = p4c.session.open_session(file_location=str(blank_session_file.absolute()))\n",
    "\n",
    "base_style = 'biochem-basis'\n",
    "base_logFC_style = 'log-fc-basis'\n",
    "\n",
    "biochem_cy = p4c.networks.get_network_suid(\"biochem-basis\"); biochem_cy"
   ]
  },
  {
   "cell_type": "code",
   "execution_count": 35,
   "metadata": {},
   "outputs": [
    {
     "name": "stdout",
     "output_type": "stream",
     "text": [
      "This file has been overwritten.\n",
      "../output/KnowledgeNetwork.2024-12-10.cys\n"
     ]
    }
   ],
   "source": [
    "session_file = output_dir / f\"KnowledgeNetwork.{today}.cys\" \n",
    "p4c.session.save_session(str(session_file.absolute()))\n",
    "print(session_file)"
   ]
  },
  {
   "cell_type": "code",
   "execution_count": 36,
   "metadata": {
    "scrolled": true
   },
   "outputs": [
    {
     "name": "stdout",
     "output_type": "stream",
     "text": [
      "display_name 90\n",
      "group 90\n",
      "description 90\n",
      "mapman_bin 32\n",
      "protein_name 30\n",
      "short_name 44\n",
      "pathway 85\n",
      "D08.logFC 76\n",
      "D08.percent_relative_change 8\n",
      "D08.color 84\n",
      "D14.logFC 75\n",
      "D14.percent_relative_change 8\n",
      "D14.color 83\n",
      "D28.logFC 22\n",
      "D28.color 22\n",
      "H01.logFC 72\n",
      "H01.percent_relative_change 8\n",
      "H01.color 80\n",
      "H07.logFC 74\n",
      "H07.percent_relative_change 8\n",
      "H07.color 82\n",
      "H08.logFC 76\n",
      "H08.percent_relative_change 8\n",
      "H08.color 84\n",
      "H14.logFC 74\n",
      "H14.percent_relative_change 8\n",
      "H14.color 82\n",
      "H28.logFC 22\n",
      "H28.color 22\n",
      "HD08.logFC 76\n",
      "HD08.percent_relative_change 8\n",
      "HD08.color 84\n",
      "HD14.logFC 74\n",
      "HD14.percent_relative_change 8\n",
      "HD14.color 82\n",
      "HD28.logFC 22\n",
      "HD28.color 22\n",
      "W01.logFC 73\n",
      "W01.percent_relative_change 8\n",
      "W01.color 81\n",
      "W07.logFC 74\n",
      "W07.percent_relative_change 8\n",
      "W07.color 82\n",
      "W28.logFC 22\n",
      "W28.color 22\n"
     ]
    }
   ],
   "source": [
    "load_table(node_df, biochem_cy, biochem_graph)"
   ]
  },
  {
   "cell_type": "markdown",
   "metadata": {},
   "source": [
    "# Colour bar\n",
    "\n",
    "Create the colour scale to match the \"color\" coulum in the node table. "
   ]
  },
  {
   "cell_type": "code",
   "execution_count": 37,
   "metadata": {},
   "outputs": [],
   "source": [
    "class ColorScale(object):\n",
    "    def __init__(self, neg, zero, pos, cmap_name):\n",
    "        colors = [\n",
    "            (0, [x/255 for x in neg]), \n",
    "            (0.5, [x/255 for x in zero]), \n",
    "            (1, [x/255 for x in pos]),\n",
    "        ]  # pos -> zero -> neg\n",
    "        self.cm = mpl.colors.LinearSegmentedColormap.from_list(cmap_name, colors)\n",
    "\n",
    "        self.neg = neg\n",
    "        self.zero = zero\n",
    "        self.pos = pos\n",
    "        \n",
    "        self.neg_hex = \"#{:02x}{:02x}{:02x}\".format(*neg[:3])\n",
    "        self.zero_hex = \"#{:02x}{:02x}{:02x}\".format(*zero[:3])\n",
    "        self.pos_hex = \"#{:02x}{:02x}{:02x}\".format(*pos[:3])\n",
    "        self.default_hex = \"#999999\"\n",
    "\n",
    "        # swatches([self.neg_hex, self.zero_hex, self.pos_hex, self.default_hex])\n",
    "\n",
    "    def make_fig(self, vmin=-2, vmax=2, figname=\"colourmap.svg\"):\n",
    "        fig, ax = plt.subplots(figsize=(6, 1))\n",
    "        fig.subplots_adjust(bottom=0.5)\n",
    "        \n",
    "        norm = mpl.colors.Normalize(vmin=vmin, vmax=vmax)\n",
    "        \n",
    "        cb = fig.colorbar(mpl.cm.ScalarMappable(norm=norm, cmap=self.cm),\n",
    "                     cax=ax, orientation='horizontal')\n",
    "        \n",
    "        cb.set_ticks([vmin, 0, vmax])\n",
    "        plt.savefig(figname)"
   ]
  },
  {
   "cell_type": "code",
   "execution_count": 38,
   "metadata": {},
   "outputs": [
    {
     "data": {
      "image/png": "[encoded data removed]",
      "text/html": [
       "<div style=\"vertical-align: middle;\"><strong>RwB</strong> </div><div class=\"cmap\"><img alt=\"RwB colormap\" title=\"RwB\" style=\"border: 1px solid #555;\" src=\"data:image/png;base64,iVBORw0KGgoAAAANSUhEUgAAAgAAAABACAYAAABsv8+/AAAAEnRFWHRUaXRsZQBSd0IgY29sb3JtYXDD68HeAAAAGHRFWHREZXNjcmlwdGlvbgBSd0IgY29sb3JtYXDPw7OEAAAAMHRFWHRBdXRob3IATWF0cGxvdGxpYiB2My44LjIsIGh0dHBzOi8vbWF0cGxvdGxpYi5vcmcPFd4SAAAAMnRFWHRTb2Z0d2FyZQBNYXRwbG90bGliIHYzLjguMiwgaHR0cHM6Ly9tYXRwbG90bGliLm9yZyGzQTUAAAGeSURBVHic7dZBasJAAEDRiafoBXvBHtB0UQ1UFJtoSeC/t4kZhzhMBvnTx+fXPMYY0zTGGGOcluvPh+nm/vr9dHP/cP7pzc+7zj/dn7/5eU/X+559eDT/3fvwaP7r+/Bsva/tw+Z1r9yHP7+Hfzq/W/fh6fyV+7A4n39d53leNT4u4/NO48v6DjZ+mN/faXzvc3HU83KU93L5GwIASgQAAAQJAAAIEgAAECQAACBIAABAkAAAgCABAABBAgAAggQAAAQJAAAIEgAAECQAACBIAABAkAAAgCABAABBAgAAggQAAAQJAAAIEgAAECQAACBIAABAkAAAgCABAABBAgAAggQAAAQJAAAIEgAAECQAACBIAABAkAAAgCABAABBAgAAggQAAAQJAAAIEgAAECQAACBIAABAkAAAgCABAABBAgAAggQAAAQJAAAIEgAAECQAACBIAABAkAAAgCABAABBAgAAggQAAAQJAAAIEgAAECQAACBIAABAkAAAgCABAABBAgAAggQAAAQJAAAIEgAAECQAACBIAABAkAAAgKBvQIYnjHy670EAAAAASUVORK5CYII=\"></div><div style=\"vertical-align: middle; max-width: 514px; display: flex; justify-content: space-between;\"><div style=\"float: left;\"><div title=\"#1865b2ff\" style=\"display: inline-block; width: 1em; height: 1em; margin: 0; vertical-align: middle; border: 1px solid #555; background-color: #1865b2ff;\"></div> under</div><div style=\"margin: 0 auto; display: inline-block;\">bad <div title=\"#00000000\" style=\"display: inline-block; width: 1em; height: 1em; margin: 0; vertical-align: middle; border: 1px solid #555; background-color: #00000000;\"></div></div><div style=\"float: right;\">over <div title=\"#c81b1bff\" style=\"display: inline-block; width: 1em; height: 1em; margin: 0; vertical-align: middle; border: 1px solid #555; background-color: #c81b1bff;\"></div></div>"
      ],
      "text/plain": [
       "<matplotlib.colors.LinearSegmentedColormap at 0x7efe6b96a110>"
      ]
     },
     "execution_count": 38,
     "metadata": {},
     "output_type": "execute_result"
    },
    {
     "data": {
      "image/png": "[encoded data removed]",
      "text/plain": [
       "<Figure size 600x100 with 1 Axes>"
      ]
     },
     "metadata": {},
     "output_type": "display_data"
    }
   ],
   "source": [
    "blue = (24, 101, 178)\n",
    "bad = (240, 240, 240)\n",
    "red = (200, 27, 27)\n",
    "colour_scale = ColorScale(blue, bad, red,  'RwB')\n",
    "\n",
    "# export as svg for figure legend\n",
    "colour_scale.make_fig(figname=output_dir / \"colourmap-rwb.svg\")\n",
    "colour_scale.cm"
   ]
  },
  {
   "cell_type": "code",
   "execution_count": 39,
   "metadata": {},
   "outputs": [],
   "source": [
    "logfc_cutoffs = (-2, 2)\n",
    "rc_cuttoffs = (-0.2, 0.2)"
   ]
  },
  {
   "cell_type": "code",
   "execution_count": 40,
   "metadata": {},
   "outputs": [],
   "source": [
    "colours = [\n",
    "    # log FCs\n",
    "    (logfc_min,          colour_scale.neg_hex, colour_scale.neg),   # under\n",
    "    (logfc_cutoffs[0],   colour_scale.neg_hex, colour_scale.neg),   # min cutoff\n",
    "    (0,                  colour_scale.zero_hex, colour_scale.zero),  #  0\n",
    "    (logfc_cutoffs[1],   colour_scale.pos_hex, colour_scale.pos),   # max cutoff\n",
    "    (neat_logfc_max,     colour_scale.pos_hex, colour_scale.pos),   # over\n",
    "\n",
    "    # # buffer\n",
    "    (neat_logfc_max+0.1, \"#ffffff\",  (255, 255, 255)),   # buffer start\n",
    "    (phenomics_offset+neat_rc_min-0.1,   \"#ffffff\", (255, 255, 255)),   # buffer end\n",
    "    \n",
    "    # RCs\n",
    "    (phenomics_offset + neat_rc_min,        colour_scale.neg_hex, colour_scale.neg),   # below\n",
    "    (phenomics_offset + rc_cuttoffs[0],     colour_scale.neg_hex, colour_scale.neg),   # min cutoff\n",
    "    (phenomics_offset + 0,                  colour_scale.zero_hex, colour_scale.zero),  #  0\n",
    "    (phenomics_offset + rc_cuttoffs[1],     colour_scale.pos_hex, colour_scale.pos),   # max cutoff\n",
    "    (phenomics_offset + rc_max,             colour_scale.pos_hex, colour_scale.pos),   # over\n",
    "]"
   ]
  },
  {
   "cell_type": "code",
   "execution_count": 41,
   "metadata": {},
   "outputs": [
    {
     "name": "stdout",
     "output_type": "stream",
     "text": [
      "D08.unscaled based on D08::D08.color\n",
      "D14.unscaled based on D14::D14.color\n",
      "D28.unscaled based on D28::D28.color\n",
      "H01.unscaled based on H01::H01.color\n",
      "H07.unscaled based on H07::H07.color\n",
      "H08.unscaled based on H08::H08.color\n",
      "H14.unscaled based on H14::H14.color\n",
      "H28.unscaled based on H28::H28.color\n",
      "HD08.unscaled based on HD08::HD08.color\n",
      "HD14.unscaled based on HD14::HD14.color\n",
      "HD28.unscaled based on HD28::HD28.color\n",
      "W01.unscaled based on W01::W01.color\n",
      "W07.unscaled based on W07::W07.color\n",
      "W28.unscaled based on W28::W28.color\n"
     ]
    }
   ],
   "source": [
    "# make sure to have the basis network in view in Cytoscape before running this\n",
    "for day in all_days:\n",
    "    day = day.split(\".\")[0]\n",
    "    \n",
    "    ###############################################################################################\n",
    "    style_name = f'{day}.unscaled'\n",
    "\n",
    "    p4c.styles.copy_visual_style(base_logFC_style, style_name)\n",
    "\n",
    "    col = f\"{day}::{day}.color\"\n",
    "    p4c.style_mappings.set_node_color_mapping(\n",
    "        col, \n",
    "        table_column_values=[x[0] for x in colours], \n",
    "        colors=[x[1] for x in colours],\n",
    "        mapping_type='c', \n",
    "        default_color=colour_scale.default_hex, \n",
    "        style_name=style_name\n",
    "    )\n",
    "\n",
    "    print(f\"{style_name} based on {col}\")\n",
    "  \n",
    "    time.sleep(1)\n"
   ]
  },
  {
   "cell_type": "code",
   "execution_count": 42,
   "metadata": {},
   "outputs": [],
   "source": [
    "# delete columns again (for ease of humans)\n",
    "for col in p4c.tables.get_table_column_names(table=\"node\", network=biochem_cy):\n",
    "    try:\n",
    "        c = col.split(\"::\")[1]\n",
    "    except: \n",
    "        continue\n",
    "    if c in logFC_columns:\n",
    "        p4c.tables.delete_table_column(col, table=\"node\", network=biochem_cy)"
   ]
  },
  {
   "attachments": {
    "a6d99b54-6d42-4282-a9b4-884ea7137664.png": {
     "image/png": "[encoded data removed]"
    }
   },
   "cell_type": "markdown",
   "metadata": {},
   "source": [
    "# Biochem logFC graphs\n",
    "\n",
    "![image.png](attachment:a6d99b54-6d42-4282-a9b4-884ea7137664.png)\n"
   ]
  },
  {
   "cell_type": "code",
   "execution_count": 43,
   "metadata": {},
   "outputs": [],
   "source": [
    "# Days since stress initiation\n",
    "text_dict = {\n",
    "    'D08': ('Drought (1 day)', 'Sampling day 8'), #\n",
    "    'D14': ('Drought (7 days)', 'Sampling day 14'), #\n",
    "    'D28': ('Drought (21 days)', 'Sampling day 28'),\n",
    "\n",
    "    'H01': ('Heat (1 day)', 'Sampling day 1'), #\n",
    "    'H07': ('Heat (7 days)', 'Sampling day 7'), #\n",
    "    'H08': ('Heat (8 days)', 'Sampling day 8'),\n",
    "    'H14': ('Heat (14 days)', 'Sampling day 14'),\n",
    "    'H28': ('Heat (28 days)', 'Sampling day 28'),\n",
    "\n",
    "    'HD08': ('Heat (8 days) + Drought (1 day)', 'Sampling day 8'), #\n",
    "    'HD14': ('Heat (14 days) + Drought (7 days)', 'Sampling day 14'), #\n",
    "    'HD28': ('Heat (28 days) + Drought (21 days)', 'Sampling day 28'),\n",
    "\n",
    "    'W01': ('Waterlogging (1 day)', 'Sampling day 1'), #\n",
    "    'W07': ('Waterlogging (7 days)', 'Sampling day 7'), #\n",
    "    'W28': ('Waterlogging (28 days)', 'Sampling day 28'),\n",
    "}"
   ]
  },
  {
   "cell_type": "code",
   "execution_count": 44,
   "metadata": {},
   "outputs": [
    {
     "data": {
      "text/plain": [
       "109429"
      ]
     },
     "execution_count": 44,
     "metadata": {},
     "output_type": "execute_result"
    }
   ],
   "source": [
    "biochem_cy_outline = p4c.networks.get_network_suid(\"basis-with-outline\")\n",
    "biochem_cy_outline"
   ]
  },
  {
   "cell_type": "code",
   "execution_count": 45,
   "metadata": {},
   "outputs": [
    {
     "data": {
      "text/plain": [
       "109032"
      ]
     },
     "execution_count": 45,
     "metadata": {},
     "output_type": "execute_result"
    }
   ],
   "source": [
    "biochem_cy"
   ]
  },
  {
   "cell_type": "code",
   "execution_count": 46,
   "metadata": {},
   "outputs": [],
   "source": [
    "def clone_network(day, name=None, basis=None):\n",
    "    if basis is None:\n",
    "        basis = biochem_cy_outline\n",
    "\n",
    "    if name is None:\n",
    "        name = day\n",
    "        \n",
    "    cy = p4c.networks.clone_network(network=basis)\n",
    "\n",
    "    coll_suid = p4c.collections.get_collection_suid(cy)\n",
    "    try:\n",
    "        p4c.commands.cyrest_put(base_url=f\"http://127.0.0.1:1234/v1/collections/{coll_suid}/tables/default\",\n",
    "                            body={ \"key\": \"SUID\", \"data\": [{ \"SUID\":coll_suid, \"name\": name}] })\n",
    "    except json.JSONDecodeError as e:\n",
    "        print(e)   \n",
    "    \n",
    "    want_cols = [x for x in info_columns + [x for x in logFC_columns if x.startswith(day)] if x in node_df]\n",
    "    load_table(node_df[want_cols], cy, biochem_graph)\n",
    "\n",
    "    return cy"
   ]
  },
  {
   "cell_type": "code",
   "execution_count": 47,
   "metadata": {
    "scrolled": true
   },
   "outputs": [
    {
     "name": "stderr",
     "output_type": "stream",
     "text": [
      "In cyrest_put: Expecting value: line 1 column 1 (char 0)\n"
     ]
    },
    {
     "name": "stdout",
     "output_type": "stream",
     "text": [
      "Expecting value: line 1 column 1 (char 0)\n",
      "display_name 90\n",
      "group 90\n",
      "description 90\n",
      "mapman_bin 32\n",
      "protein_name 30\n",
      "short_name 44\n",
      "pathway 85\n",
      "D08.logFC 76\n",
      "D08.percent_relative_change 8\n",
      "D08.color 84\n"
     ]
    },
    {
     "name": "stderr",
     "output_type": "stream",
     "text": [
      "In cyrest_put: Expecting value: line 1 column 1 (char 0)\n"
     ]
    },
    {
     "name": "stdout",
     "output_type": "stream",
     "text": [
      "Expecting value: line 1 column 1 (char 0)\n",
      "display_name 90\n",
      "group 90\n",
      "description 90\n",
      "mapman_bin 32\n",
      "protein_name 30\n",
      "short_name 44\n",
      "pathway 85\n",
      "D14.logFC 75\n",
      "D14.percent_relative_change 8\n",
      "D14.color 83\n"
     ]
    },
    {
     "name": "stderr",
     "output_type": "stream",
     "text": [
      "In cyrest_put: Expecting value: line 1 column 1 (char 0)\n"
     ]
    },
    {
     "name": "stdout",
     "output_type": "stream",
     "text": [
      "Expecting value: line 1 column 1 (char 0)\n",
      "display_name 90\n",
      "group 90\n",
      "description 90\n",
      "mapman_bin 32\n",
      "protein_name 30\n",
      "short_name 44\n",
      "pathway 85\n",
      "D28.logFC 22\n",
      "D28.color 22\n"
     ]
    },
    {
     "name": "stderr",
     "output_type": "stream",
     "text": [
      "In cyrest_put: Expecting value: line 1 column 1 (char 0)\n"
     ]
    },
    {
     "name": "stdout",
     "output_type": "stream",
     "text": [
      "Expecting value: line 1 column 1 (char 0)\n",
      "display_name 90\n",
      "group 90\n",
      "description 90\n",
      "mapman_bin 32\n",
      "protein_name 30\n",
      "short_name 44\n",
      "pathway 85\n",
      "H01.logFC 72\n",
      "H01.percent_relative_change 8\n",
      "H01.color 80\n"
     ]
    },
    {
     "name": "stderr",
     "output_type": "stream",
     "text": [
      "In cyrest_put: Expecting value: line 1 column 1 (char 0)\n"
     ]
    },
    {
     "name": "stdout",
     "output_type": "stream",
     "text": [
      "Expecting value: line 1 column 1 (char 0)\n",
      "display_name 90\n",
      "group 90\n",
      "description 90\n",
      "mapman_bin 32\n",
      "protein_name 30\n",
      "short_name 44\n",
      "pathway 85\n",
      "H07.logFC 74\n",
      "H07.percent_relative_change 8\n",
      "H07.color 82\n"
     ]
    },
    {
     "name": "stderr",
     "output_type": "stream",
     "text": [
      "In cyrest_put: Expecting value: line 1 column 1 (char 0)\n"
     ]
    },
    {
     "name": "stdout",
     "output_type": "stream",
     "text": [
      "Expecting value: line 1 column 1 (char 0)\n",
      "display_name 90\n",
      "group 90\n",
      "description 90\n",
      "mapman_bin 32\n",
      "protein_name 30\n",
      "short_name 44\n",
      "pathway 85\n",
      "H08.logFC 76\n",
      "H08.percent_relative_change 8\n",
      "H08.color 84\n"
     ]
    },
    {
     "name": "stderr",
     "output_type": "stream",
     "text": [
      "In cyrest_put: Expecting value: line 1 column 1 (char 0)\n"
     ]
    },
    {
     "name": "stdout",
     "output_type": "stream",
     "text": [
      "Expecting value: line 1 column 1 (char 0)\n",
      "display_name 90\n",
      "group 90\n",
      "description 90\n",
      "mapman_bin 32\n",
      "protein_name 30\n",
      "short_name 44\n",
      "pathway 85\n",
      "H14.logFC 74\n",
      "H14.percent_relative_change 8\n",
      "H14.color 82\n"
     ]
    },
    {
     "name": "stderr",
     "output_type": "stream",
     "text": [
      "In cyrest_put: Expecting value: line 1 column 1 (char 0)\n"
     ]
    },
    {
     "name": "stdout",
     "output_type": "stream",
     "text": [
      "Expecting value: line 1 column 1 (char 0)\n",
      "display_name 90\n",
      "group 90\n",
      "description 90\n",
      "mapman_bin 32\n",
      "protein_name 30\n",
      "short_name 44\n",
      "pathway 85\n",
      "H28.logFC 22\n",
      "H28.color 22\n"
     ]
    },
    {
     "name": "stderr",
     "output_type": "stream",
     "text": [
      "In cyrest_put: Expecting value: line 1 column 1 (char 0)\n"
     ]
    },
    {
     "name": "stdout",
     "output_type": "stream",
     "text": [
      "Expecting value: line 1 column 1 (char 0)\n",
      "display_name 90\n",
      "group 90\n",
      "description 90\n",
      "mapman_bin 32\n",
      "protein_name 30\n",
      "short_name 44\n",
      "pathway 85\n",
      "HD08.logFC 76\n",
      "HD08.percent_relative_change 8\n",
      "HD08.color 84\n"
     ]
    },
    {
     "name": "stderr",
     "output_type": "stream",
     "text": [
      "In cyrest_put: Expecting value: line 1 column 1 (char 0)\n"
     ]
    },
    {
     "name": "stdout",
     "output_type": "stream",
     "text": [
      "Expecting value: line 1 column 1 (char 0)\n",
      "display_name 90\n",
      "group 90\n",
      "description 90\n",
      "mapman_bin 32\n",
      "protein_name 30\n",
      "short_name 44\n",
      "pathway 85\n",
      "HD14.logFC 74\n",
      "HD14.percent_relative_change 8\n",
      "HD14.color 82\n"
     ]
    },
    {
     "name": "stderr",
     "output_type": "stream",
     "text": [
      "In cyrest_put: Expecting value: line 1 column 1 (char 0)\n"
     ]
    },
    {
     "name": "stdout",
     "output_type": "stream",
     "text": [
      "Expecting value: line 1 column 1 (char 0)\n",
      "display_name 90\n",
      "group 90\n",
      "description 90\n",
      "mapman_bin 32\n",
      "protein_name 30\n",
      "short_name 44\n",
      "pathway 85\n",
      "HD28.logFC 22\n",
      "HD28.color 22\n"
     ]
    },
    {
     "name": "stderr",
     "output_type": "stream",
     "text": [
      "In cyrest_put: Expecting value: line 1 column 1 (char 0)\n"
     ]
    },
    {
     "name": "stdout",
     "output_type": "stream",
     "text": [
      "Expecting value: line 1 column 1 (char 0)\n",
      "display_name 90\n",
      "group 90\n",
      "description 90\n",
      "mapman_bin 32\n",
      "protein_name 30\n",
      "short_name 44\n",
      "pathway 85\n",
      "W01.logFC 73\n",
      "W01.percent_relative_change 8\n",
      "W01.color 81\n"
     ]
    },
    {
     "name": "stderr",
     "output_type": "stream",
     "text": [
      "In cyrest_put: Expecting value: line 1 column 1 (char 0)\n"
     ]
    },
    {
     "name": "stdout",
     "output_type": "stream",
     "text": [
      "Expecting value: line 1 column 1 (char 0)\n",
      "display_name 90\n",
      "group 90\n",
      "description 90\n",
      "mapman_bin 32\n",
      "protein_name 30\n",
      "short_name 44\n",
      "pathway 85\n",
      "W07.logFC 74\n",
      "W07.percent_relative_change 8\n",
      "W07.color 82\n"
     ]
    },
    {
     "name": "stderr",
     "output_type": "stream",
     "text": [
      "In cyrest_put: Expecting value: line 1 column 1 (char 0)\n"
     ]
    },
    {
     "name": "stdout",
     "output_type": "stream",
     "text": [
      "Expecting value: line 1 column 1 (char 0)\n",
      "display_name 90\n",
      "group 90\n",
      "description 90\n",
      "mapman_bin 32\n",
      "protein_name 30\n",
      "short_name 44\n",
      "pathway 85\n",
      "W28.logFC 22\n",
      "W28.color 22\n"
     ]
    }
   ],
   "source": [
    "all_cys = {}\n",
    "all_cys_filtered = {}\n",
    "\n",
    "for day in all_days:\n",
    "    day = day.split(\".\")[0]\n",
    "    \n",
    "    #############################################\n",
    "    style_name = f'{day}.unscaled'\n",
    "    \n",
    "    subnetwork_name = f'{text_dict[day][0]} - {text_dict[day][1]}'\n",
    "    \n",
    "    cy = clone_network(day, name=subnetwork_name)\n",
    "    \n",
    "    p4c.styles.set_visual_style(style_name, network=cy)         \n",
    "    p4c.annotations.add_annotation_text(text=text_dict[day][0], x_pos=-700, y_pos=-470.0, \n",
    "                                        font_size=60, font_family=\"SansSerif\", font_style=\"plain\", network=cy)   \n",
    "    p4c.annotations.add_annotation_text(text=text_dict[day][1], x_pos=-700, y_pos=-400.0, \n",
    "                                        font_size=40, font_family=\"SansSerif\", font_style=\"plain\", network=cy)   \n",
    "    \n",
    "    all_cys[day] = cy\n",
    "    p4c.clear_selection()\n",
    "\n",
    "    #############################################\n",
    "\n",
    "    time.sleep(1)\n"
   ]
  },
  {
   "cell_type": "code",
   "execution_count": 48,
   "metadata": {},
   "outputs": [
    {
     "data": {
      "text/plain": [
       "PosixPath('../output/KnowledgeNetwork.2024-12-10.cys')"
      ]
     },
     "execution_count": 48,
     "metadata": {},
     "output_type": "execute_result"
    }
   ],
   "source": [
    "session_file"
   ]
  },
  {
   "cell_type": "code",
   "execution_count": 49,
   "metadata": {},
   "outputs": [
    {
     "name": "stdout",
     "output_type": "stream",
     "text": [
      "This file has been overwritten.\n"
     ]
    },
    {
     "data": {
      "text/plain": [
       "{}"
      ]
     },
     "execution_count": 49,
     "metadata": {},
     "output_type": "execute_result"
    }
   ],
   "source": [
    "p4c.session.save_session(str(session_file.absolute()))"
   ]
  },
  {
   "cell_type": "code",
   "execution_count": 50,
   "metadata": {},
   "outputs": [],
   "source": [
    "def export_network(network, filename, format=\"PDF\"):\n",
    "\n",
    "    # fit content ignores edges that may extend\n",
    "    # past the node boundaries\n",
    "    # Reported bug: CSD-979\n",
    "    p4c.network_views.fit_content(network=network)\n",
    "    p4c.network_selection.clear_selection(type='both', network=network)\n",
    "\n",
    "    p4c.network_views.export_image(\n",
    "        filename=str(filename.absolute()),\n",
    "        type=format,\n",
    "        network=network,\n",
    "        overwrite_file=True,\n",
    "        # resolution=600\n",
    "        all_graphics_details=True,\n",
    "        # hide_labels=False\n",
    "    )"
   ]
  },
  {
   "cell_type": "code",
   "execution_count": 51,
   "metadata": {},
   "outputs": [
    {
     "name": "stdout",
     "output_type": "stream",
     "text": [
      "../output/figures/D08.2024-12-10.pdf\n",
      "../output/figures/D14.2024-12-10.pdf\n",
      "../output/figures/D28.2024-12-10.pdf\n",
      "../output/figures/H01.2024-12-10.pdf\n",
      "../output/figures/H07.2024-12-10.pdf\n",
      "../output/figures/H08.2024-12-10.pdf\n",
      "../output/figures/H14.2024-12-10.pdf\n",
      "../output/figures/H28.2024-12-10.pdf\n",
      "../output/figures/HD08.2024-12-10.pdf\n",
      "../output/figures/HD14.2024-12-10.pdf\n",
      "../output/figures/HD28.2024-12-10.pdf\n",
      "../output/figures/W01.2024-12-10.pdf\n",
      "../output/figures/W07.2024-12-10.pdf\n",
      "../output/figures/W28.2024-12-10.pdf\n"
     ]
    }
   ],
   "source": [
    "for day in all_cys:\n",
    "    cy = all_cys[day]  \n",
    "    p4c.network_views.fit_content(cy)\n",
    "    \n",
    "    filename = fig_dir / f\"{day}.{today}.pdf\"\n",
    "\n",
    "    export_network(cy, filename, format=\"PDF\")\n",
    "    \n",
    "    print(filename)\n",
    "    time.sleep(1)"
   ]
  },
  {
   "cell_type": "code",
   "execution_count": 54,
   "metadata": {},
   "outputs": [],
   "source": [
    "cy = biochem_cy\n",
    "p4c.network_views.fit_content(cy)\n",
    "    \n",
    "f_name = fig_dir / f\"biochem.{today}.pdf\"\n",
    "_ = p4c.network_views.export_image(filename=str(f_name.absolute()), type=\"PDF\", \n",
    "                               network=cy, overwrite_file=True,\n",
    ")"
   ]
  },
  {
   "cell_type": "code",
   "execution_count": 55,
   "metadata": {},
   "outputs": [],
   "source": [
    "node_df.to_csv(output_dir / f\"KnowledgeNetwork_data_merged_table-{today}.tsv\", sep=\"\\t\")"
   ]
  },
  {
   "cell_type": "code",
   "execution_count": 56,
   "metadata": {},
   "outputs": [
    {
     "name": "stdout",
     "output_type": "stream",
     "text": [
      "Done\n"
     ]
    }
   ],
   "source": [
    "print(\"Done\")"
   ]
  },
  {
   "cell_type": "code",
   "execution_count": null,
   "metadata": {},
   "outputs": [],
   "source": []
  }
 ],
 "metadata": {
  "jpcodetoc-autonumbering": false,
  "jpcodetoc-showcode": false,
  "jpcodetoc-showmarkdowntxt": false,
  "jpcodetoc-showtags": true,
  "kernelspec": {
   "display_name": "Python [conda env:python-env]",
   "language": "python",
   "name": "conda-env-python-env-py"
  },
  "language_info": {
   "codemirror_mode": {
    "name": "ipython",
    "version": 3
   },
   "file_extension": ".py",
   "mimetype": "text/x-python",
   "name": "python",
   "nbconvert_exporter": "python",
   "pygments_lexer": "ipython3",
   "version": "3.10.13"
  },
  "toc": {
   "base_numbering": 1,
   "nav_menu": {},
   "number_sections": true,
   "sideBar": true,
   "skip_h1_title": false,
   "title_cell": "Table of Contents",
   "title_sidebar": "Contents",
   "toc_cell": true,
   "toc_position": {
    "height": "calc(100% - 180px)",
    "left": "10px",
    "top": "150px",
    "width": "214.875px"
   },
   "toc_section_display": true,
   "toc_window_display": true
  },
  "varInspector": {
   "cols": {
    "lenName": 16,
    "lenType": 16,
    "lenVar": 40
   },
   "kernels_config": {
    "python": {
     "delete_cmd_postfix": "",
     "delete_cmd_prefix": "del ",
     "library": "var_list.py",
     "varRefreshCmd": "print(var_dic_list())"
    },
    "r": {
     "delete_cmd_postfix": ") ",
     "delete_cmd_prefix": "rm(",
     "library": "var_list.r",
     "varRefreshCmd": "cat(var_dic_list()) "
    }
   },
   "types_to_exclude": [
    "module",
    "function",
    "builtin_function_or_method",
    "instance",
    "_Feature"
   ],
   "window_display": false
  }
 },
 "nbformat": 4,
 "nbformat_minor": 4
}
