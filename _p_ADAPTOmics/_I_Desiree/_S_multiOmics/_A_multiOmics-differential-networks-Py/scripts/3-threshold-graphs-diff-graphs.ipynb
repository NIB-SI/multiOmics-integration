{
 "cells": [
  {
   "cell_type": "markdown",
   "metadata": {},
   "source": [
    "# Setup"
   ]
  },
  {
   "cell_type": "code",
   "execution_count": 1,
   "metadata": {},
   "outputs": [],
   "source": [
    "# python modules\n",
    "import os\n",
    "import glob\n",
    "import seaborn as sns\n",
    "import matplotlib.pyplot as plt\n",
    "import pandas as pd\n",
    "import numpy as np\n",
    "import re\n",
    "import time"
   ]
  },
  {
   "cell_type": "code",
   "execution_count": 2,
   "metadata": {},
   "outputs": [],
   "source": [
    "import io\n",
    "from contextlib import redirect_stdout, redirect_stderr\n",
    "fake_logger = io.StringIO()"
   ]
  },
  {
   "cell_type": "code",
   "execution_count": 3,
   "metadata": {},
   "outputs": [],
   "source": [
    "from pathlib import Path"
   ]
  },
  {
   "cell_type": "code",
   "execution_count": 4,
   "metadata": {},
   "outputs": [],
   "source": [
    "import py4cytoscape as p4c\n",
    "import networkx as nx"
   ]
  },
  {
   "cell_type": "code",
   "execution_count": 5,
   "metadata": {},
   "outputs": [],
   "source": [
    "import design"
   ]
  },
  {
   "cell_type": "code",
   "execution_count": 6,
   "metadata": {},
   "outputs": [],
   "source": [
    "base_dir = Path(\"..\")\n",
    "graph_path = base_dir / \"output\" / \"original-graphs/\"\n",
    "t_graph_path = base_dir / \"output\" / \"threshold-graphs\"\n",
    "input_dir = base_dir / \"input\" "
   ]
  },
  {
   "cell_type": "markdown",
   "metadata": {},
   "source": [
    "## Load calculated thresholds"
   ]
  },
  {
   "cell_type": "code",
   "execution_count": 7,
   "metadata": {},
   "outputs": [
    {
     "data": {
      "text/html": [
       "<div>\n",
       "<style scoped>\n",
       "    .dataframe tbody tr th:only-of-type {\n",
       "        vertical-align: middle;\n",
       "    }\n",
       "\n",
       "    .dataframe tbody tr th {\n",
       "        vertical-align: top;\n",
       "    }\n",
       "\n",
       "    .dataframe thead th {\n",
       "        text-align: right;\n",
       "    }\n",
       "</style>\n",
       "<table border=\"1\" class=\"dataframe\">\n",
       "  <thead>\n",
       "    <tr style=\"text-align: right;\">\n",
       "      <th></th>\n",
       "      <th>density-minima</th>\n",
       "    </tr>\n",
       "    <tr>\n",
       "      <th>contrast</th>\n",
       "      <th></th>\n",
       "    </tr>\n",
       "  </thead>\n",
       "  <tbody>\n",
       "    <tr>\n",
       "      <th>D-v-C</th>\n",
       "      <td>1.413</td>\n",
       "    </tr>\n",
       "    <tr>\n",
       "      <th>H-v-C</th>\n",
       "      <td>1.565</td>\n",
       "    </tr>\n",
       "    <tr>\n",
       "      <th>HD-v-C</th>\n",
       "      <td>1.527</td>\n",
       "    </tr>\n",
       "    <tr>\n",
       "      <th>HD-v-H</th>\n",
       "      <td>1.440</td>\n",
       "    </tr>\n",
       "    <tr>\n",
       "      <th>W-v-C</th>\n",
       "      <td>1.498</td>\n",
       "    </tr>\n",
       "  </tbody>\n",
       "</table>\n",
       "</div>"
      ],
      "text/plain": [
       "          density-minima\n",
       "contrast                \n",
       "D-v-C              1.413\n",
       "H-v-C              1.565\n",
       "HD-v-C             1.527\n",
       "HD-v-H             1.440\n",
       "W-v-C              1.498"
      ]
     },
     "execution_count": 7,
     "metadata": {},
     "output_type": "execute_result"
    }
   ],
   "source": [
    "thresholds_df = pd.read_csv(base_dir / \"output\" / \"thresholds.tsv\", sep=\"\\t\", index_col=[0])\n",
    "thresholds_df.head()"
   ]
  },
  {
   "cell_type": "markdown",
   "metadata": {},
   "source": [
    "## Functions"
   ]
  },
  {
   "cell_type": "code",
   "execution_count": 8,
   "metadata": {},
   "outputs": [],
   "source": [
    "def read_graph(path, data=None, create_using=nx.MultiDiGraph, \n",
    "               add_node_attributes=False, node_attibutes_df=None, node_attibutes_index_col=\"name\", \n",
    "               message=True, end=\"  \",  header=False, corr=True\n",
    "              ):\n",
    "    if data == None:\n",
    "        data = [('weight', float), ('data_source', str), ('treatment', str)]\n",
    "        \n",
    "    with open(path, \"rb\") as handle:\n",
    "        if header:\n",
    "            handle.readline()\n",
    "        g = nx.read_edgelist(handle, delimiter=\"\\t\", create_using=create_using, data=data)\n",
    "        \n",
    "    if add_node_attributes:\n",
    "        nx.set_node_attributes(g, node_attibutes_df.set_index(node_attibutes_index_col).to_dict(orient=\"index\"))\n",
    "    if corr:\n",
    "        nx.set_edge_attributes(g, {e: \"diablo-corr\" for e in g.edges(keys=True)}, 'interaction')\n",
    "    \n",
    "    if message:\n",
    "        print(f\"{g.number_of_nodes()}, {g.number_of_edges()}\", end=end)\n",
    "    return g\n",
    "\n",
    "def threshold_graph(G, thr, message=True, end=\" \"):\n",
    "    G.remove_edges_from([(s, t) for (s, t, data) in G.edges(data=True) if abs(data[\"weight\"]) < thr])\n",
    "    G.remove_nodes_from(list(nx.isolates(G)))\n",
    "    if message:\n",
    "        print(f\"--> {G.number_of_nodes()}, {G.number_of_edges()}  \", end=end)\n",
    "    nx.set_node_attributes(G, {k: float(v) for k, v in dict(G.degree()).items()}, 'degree')\n",
    "    return G\n",
    "\n",
    "def to_cytoscape(G, title=\"TEST\", collection=\"TEST\", layout_alg=\"cose\", relayout=True, copycat=None, style=\"weight\", node_table=None):\n",
    "    with redirect_stdout(fake_logger), redirect_stderr(fake_logger):\n",
    "        cy_suid = p4c.networks.create_network_from_networkx(G, title=title, collection=collection)\n",
    "        print(copycat, 'copcat')\n",
    "        \n",
    "        if copycat:\n",
    "            print(copycat)\n",
    "            p4c.layouts.layout_copycat(copycat, cy_suid)\n",
    "        \n",
    "        if layout_alg and not copycat:\n",
    "            p4c.layouts.layout_network(layout_alg, network=cy_suid)\n",
    "        \n",
    "        p4c.styles.set_visual_style(style, network=cy_suid)         \n",
    "        \n",
    "        if node_table is not None:\n",
    "            p4c.load_table_data(\n",
    "            node_table, \n",
    "            data_key_column='name', \n",
    "            table='node', table_key_column='name',\n",
    "            network=cy_suid\n",
    "        )\n",
    "        \n",
    "        if relayout:\n",
    "            relyt_suid = p4c.networks.create_subnetwork(nodes='all', \n",
    "                                                           nodes_by_col=\"SUID\", \n",
    "                                                           subnetwork_name=\"cose layout\", \n",
    "                                                           network=cy_suid)\n",
    "            p4c.layouts.layout_network(layout_alg, network=relyt_suid)\n",
    "            p4c.styles.set_visual_style(style, network=relyt_suid)\n",
    "        \n",
    "        else:\n",
    "            relyt_suid = None\n",
    "        \n",
    "    return cy_suid, relyt_suid\n"
   ]
  },
  {
   "cell_type": "markdown",
   "metadata": {},
   "source": [
    "## Node annotations"
   ]
  },
  {
   "cell_type": "code",
   "execution_count": 9,
   "metadata": {},
   "outputs": [
    {
     "data": {
      "text/html": [
       "<div>\n",
       "<style scoped>\n",
       "    .dataframe tbody tr th:only-of-type {\n",
       "        vertical-align: middle;\n",
       "    }\n",
       "\n",
       "    .dataframe tbody tr th {\n",
       "        vertical-align: top;\n",
       "    }\n",
       "\n",
       "    .dataframe thead th {\n",
       "        text-align: right;\n",
       "    }\n",
       "</style>\n",
       "<table border=\"1\" class=\"dataframe\">\n",
       "  <thead>\n",
       "    <tr style=\"text-align: right;\">\n",
       "      <th></th>\n",
       "      <th>biochem_net_name</th>\n",
       "      <th>display_name</th>\n",
       "      <th>pathway</th>\n",
       "      <th>protein_name</th>\n",
       "      <th>short_name</th>\n",
       "      <th>name</th>\n",
       "      <th>group</th>\n",
       "      <th>mapman_bin</th>\n",
       "      <th>description</th>\n",
       "    </tr>\n",
       "  </thead>\n",
       "  <tbody>\n",
       "    <tr>\n",
       "      <th>94</th>\n",
       "      <td>VdnPW3_37011</td>\n",
       "      <td>CLPB4</td>\n",
       "      <td>HSP</td>\n",
       "      <td>VdnPW3_37011</td>\n",
       "      <td>CLPB4</td>\n",
       "      <td>pr.CLPB4</td>\n",
       "      <td>proteomics</td>\n",
       "      <td>[20.2.1 stress.abiotic.heat, 20.2 stress.abiot...</td>\n",
       "      <td>Chaperone protein clpB 2</td>\n",
       "    </tr>\n",
       "    <tr>\n",
       "      <th>95</th>\n",
       "      <td>VdnPW4_15664</td>\n",
       "      <td>ACA11</td>\n",
       "      <td>Ca</td>\n",
       "      <td>VdnPW4_15664</td>\n",
       "      <td>ACA11</td>\n",
       "      <td>pr.ACA11</td>\n",
       "      <td>proteomics</td>\n",
       "      <td>[34.21 transport.calcium, 30.3 signalling.calc...</td>\n",
       "      <td>Calcium-transporting ATPase 1</td>\n",
       "    </tr>\n",
       "    <tr>\n",
       "      <th>96</th>\n",
       "      <td>VdnPW4_18801</td>\n",
       "      <td>KARI</td>\n",
       "      <td>Amino</td>\n",
       "      <td>VdnPW4_18801</td>\n",
       "      <td>F14P22.200</td>\n",
       "      <td>pr.F14P22.200</td>\n",
       "      <td>proteomics</td>\n",
       "      <td>[13.1.4.1.2 amino acid metabolism.synthesis.br...</td>\n",
       "      <td>Ketol-acid reductoisomerase</td>\n",
       "    </tr>\n",
       "    <tr>\n",
       "      <th>97</th>\n",
       "      <td>VdnPW5_1541</td>\n",
       "      <td>LHCA3</td>\n",
       "      <td>PS</td>\n",
       "      <td>VdnPW5_1541</td>\n",
       "      <td>LHCA3</td>\n",
       "      <td>pr.LHCA3</td>\n",
       "      <td>proteomics</td>\n",
       "      <td>[1.1.2.1 PS.lightreaction.photosystem I.LHC-I,...</td>\n",
       "      <td>Chlorophyll a-b binding protein 8, chloroplastic</td>\n",
       "    </tr>\n",
       "    <tr>\n",
       "      <th>98</th>\n",
       "      <td>WATER.CONSUMPTION</td>\n",
       "      <td>Water consumption</td>\n",
       "      <td>NaN</td>\n",
       "      <td>NaN</td>\n",
       "      <td>NaN</td>\n",
       "      <td>ph.WATER.CONSUMPTION</td>\n",
       "      <td>phenomics</td>\n",
       "      <td>NaN</td>\n",
       "      <td>Absolute weight trait based on weighing of the...</td>\n",
       "    </tr>\n",
       "  </tbody>\n",
       "</table>\n",
       "</div>"
      ],
      "text/plain": [
       "     biochem_net_name       display_name pathway  protein_name  short_name  \\\n",
       "94       VdnPW3_37011              CLPB4     HSP  VdnPW3_37011       CLPB4   \n",
       "95       VdnPW4_15664              ACA11      Ca  VdnPW4_15664       ACA11   \n",
       "96       VdnPW4_18801               KARI   Amino  VdnPW4_18801  F14P22.200   \n",
       "97        VdnPW5_1541              LHCA3      PS   VdnPW5_1541       LHCA3   \n",
       "98  WATER.CONSUMPTION  Water consumption     NaN           NaN         NaN   \n",
       "\n",
       "                    name       group  \\\n",
       "94              pr.CLPB4  proteomics   \n",
       "95              pr.ACA11  proteomics   \n",
       "96         pr.F14P22.200  proteomics   \n",
       "97              pr.LHCA3  proteomics   \n",
       "98  ph.WATER.CONSUMPTION   phenomics   \n",
       "\n",
       "                                           mapman_bin  \\\n",
       "94  [20.2.1 stress.abiotic.heat, 20.2 stress.abiot...   \n",
       "95  [34.21 transport.calcium, 30.3 signalling.calc...   \n",
       "96  [13.1.4.1.2 amino acid metabolism.synthesis.br...   \n",
       "97  [1.1.2.1 PS.lightreaction.photosystem I.LHC-I,...   \n",
       "98                                                NaN   \n",
       "\n",
       "                                          description  \n",
       "94                           Chaperone protein clpB 2  \n",
       "95                      Calcium-transporting ATPase 1  \n",
       "96                        Ketol-acid reductoisomerase  \n",
       "97   Chlorophyll a-b binding protein 8, chloroplastic  \n",
       "98  Absolute weight trait based on weighing of the...  "
      ]
     },
     "execution_count": 9,
     "metadata": {},
     "output_type": "execute_result"
    }
   ],
   "source": [
    "node_df = pd.read_csv(input_dir / \"node-annotations.tsv\", sep=\"\\t\")\n",
    "node_df[\"mapman_bin\"] = node_df[\"mapman_bin\"].apply(lambda x: x.split(\" | \") if not pd.isna(x) else np.nan)\n",
    "node_df.tail()"
   ]
  },
  {
   "cell_type": "markdown",
   "metadata": {},
   "source": [
    "## Biochem graph"
   ]
  },
  {
   "cell_type": "code",
   "execution_count": 10,
   "metadata": {},
   "outputs": [
    {
     "name": "stdout",
     "output_type": "stream",
     "text": [
      "90, 94  "
     ]
    },
    {
     "data": {
      "text/plain": [
       "<networkx.classes.multidigraph.MultiDiGraph at 0x7f3db26a8190>"
      ]
     },
     "execution_count": 10,
     "metadata": {},
     "output_type": "execute_result"
    }
   ],
   "source": [
    "biochem_graph = read_graph(input_dir/ \"KnowledgeNetwork-biochem.tsv\", data=[(\"interaction\", str)], \n",
    "                           add_node_attributes=True, node_attibutes_df=node_df,\n",
    "                           message=True, header=True, corr=False)\n",
    "biochem_graph"
   ]
  },
  {
   "cell_type": "code",
   "execution_count": 11,
   "metadata": {},
   "outputs": [],
   "source": [
    "def create_merge_whole_graph(dataset, thr_type=\"whole-graph\"):\n",
    "    all_dfs = []\n",
    "\n",
    "    for contrast in design.contrasts[dataset]:\n",
    "        print(contrast,  end=\"\\t\")\n",
    "        G = read_graph(graph_path / dataset / f\"{dataset}.{contrast}.ncol\", data=[('weight', float)], create_using=nx.MultiGraph,\n",
    "                      add_node_attributes=True, node_attibutes_df=node_df)\n",
    "        thr = thresholds_df.loc[dataset][thr_type][contrast]\n",
    "\n",
    "        G = threshold_graph(G, thr, end=\"\\n\")\n",
    "\n",
    "        nx.set_edge_attributes(G, {k: contrast for k in G.edges(keys=True)}, 'contrast')\n",
    "\n",
    "        df = nx.to_pandas_edgelist(G)\n",
    "        all_dfs.append(df)\n",
    "\n",
    "        df.to_csv(t_graph_path / f\"{dataset}.{contrast}.whole_graph.{thr}.ncol\", sep=\"\\t\", index=None)  \n",
    "\n",
    "    merged = pd.concat(all_dfs)\n",
    "    display(merged.head())\n",
    "\n",
    "    merged.to_csv(t_graph_path / f\"{dataset}.TvC-combined.whole_graph.ncol\", sep=\"\\t\", index=None) \n",
    "\n",
    "    G = nx.from_pandas_edgelist(merged, create_using=nx.MultiGraph, edge_attr=[\"contrast\", \"weight\"])\n",
    "\n",
    "    print(G.number_of_nodes(), G.number_of_edges())\n",
    "    cy_whole_graph_merged, _ = to_cytoscape(\n",
    "        G, \n",
    "        title=f\"Merged (whole-graph)\", \n",
    "        collection=f\"{dataset} Merged (diff correlation)\", \n",
    "        relayout=False, \n",
    "        copycat=None, \n",
    "        style=\"contrast-merged\",\n",
    "        layout_alg=\"cose\"\n",
    "    )\n",
    "    \n",
    "    print(\"-----------\")\n",
    "    print(fake_logger.getvalue())\n",
    "    \n",
    "    return cy_whole_graph_merged"
   ]
  },
  {
   "cell_type": "code",
   "execution_count": 12,
   "metadata": {},
   "outputs": [],
   "source": [
    "def add_context(G, contrast):\n",
    "    ''' add original edges within treatment '''\n",
    "#     print(G.number_of_nodes(), G.number_of_edges())\n",
    "\n",
    "    treatment, control = design.contrasts[contrast]\n",
    "\n",
    "    G_control = read_graph(graph_path / f\"{control}.ncol\", data=[('weight', float)], message=False,\n",
    "                          add_node_attributes=True, node_attibutes_df=node_df)\n",
    "    G_control.remove_edges_from([(s, t) for (s, t) in G_control.edges() if not (s, t) in G.edges()])\n",
    "    G_control.remove_nodes_from(list(nx.isolates(G_control)))\n",
    "    nx.set_edge_attributes(G_control, {k: \"control\" for k in G_control.edges(keys=True)}, 'type')\n",
    "    nx.set_edge_attributes(G_control, {(u, v, k): d[\"weight\"] for u, v, k, d in G_control.edges(data=True, keys=True)}, 'actual weight')\n",
    "    nx.set_edge_attributes(G_control, {(u, v, k): d[\"weight\"]*2 for u, v, k, d in G_control.edges(data=True, keys=True)}, 'weight')\n",
    "\n",
    "    G_treatment = read_graph(graph_path / f\"{treatment}.ncol\", data=[('weight', float)], message=False)\n",
    "    G_treatment.remove_edges_from([(s, t) for (s, t) in G_treatment.edges() if not (s, t) in G.edges()])\n",
    "    G_treatment.remove_nodes_from(list(nx.isolates(G_treatment)))\n",
    "    nx.set_edge_attributes(G_treatment, {k: \"treatment\" for k in G_treatment.edges(keys=True)}, 'type')\n",
    "    nx.set_edge_attributes(G_treatment, {(u, v, k): d[\"weight\"] for u, v, k, d in G_treatment.edges(data=True, keys=True)}, 'actual weight')\n",
    "    nx.set_edge_attributes(G_treatment, {(u, v, k): d[\"weight\"]*2 for u, v, k, d in G_treatment.edges(data=True, keys=True)}, 'weight')\n",
    "\n",
    "    nx.set_edge_attributes(G, {k: \"treatment-control\" for k in G.edges(keys=True)}, 'type')\n",
    "    G.add_edges_from(G_control.edges(data=True))\n",
    "    G.add_edges_from(G_treatment.edges(data=True))\n",
    "    \n",
    "#     print(G.number_of_nodes(), G.number_of_edges())\n",
    "    return G"
   ]
  },
  {
   "cell_type": "code",
   "execution_count": 13,
   "metadata": {},
   "outputs": [],
   "source": [
    "style = \"diablo-diff-weight\""
   ]
  },
  {
   "cell_type": "code",
   "execution_count": 14,
   "metadata": {},
   "outputs": [],
   "source": [
    "def load_all_thresholded_networks(prefix=\"\"):\n",
    "    for contrast in design.contrasts:\n",
    "\n",
    "        collection = f\"{contrast} (diff correlation)\"\n",
    "\n",
    "        G = read_graph(graph_path / f\"{prefix}{contrast}.ncol\", data=[('weight', float)],\n",
    "                      add_node_attributes=True, node_attibutes_df=node_df)\n",
    "        print(contrast, \"   \\t\", G.number_of_nodes(), G.number_of_edges(), end=\"\\t\")\n",
    "\n",
    "        thr = thresholds_df.loc[contrast][thr_type]\n",
    "\n",
    "        this_G = threshold_graph(G.copy(), thr)\n",
    "\n",
    "        cy_suid, _ = to_cytoscape(\n",
    "            this_G,\n",
    "            title=f\"{contrast} ({thr_type} -- {thr})\", \n",
    "            collection=collection, \n",
    "            relayout=False, \n",
    "            copycat=False, \n",
    "            style=style,\n",
    "        ) \n",
    "\n",
    "        ########################################################\n",
    "\n",
    "        context_G = add_context(this_G, contrast)\n",
    "        _ = to_cytoscape(\n",
    "            context_G,\n",
    "            title=f\"{contrast} ({thr_type} -- {thr}) context\", \n",
    "            collection=collection, \n",
    "            relayout=False, \n",
    "            style=style,\n",
    "            layout_alg=\"force-directed\"\n",
    "        )         \n",
    "\n",
    "\n",
    "        B = context_G.copy()\n",
    "        new_nodes = []\n",
    "        new_edges = []\n",
    "        for b, data in biochem_graph.nodes(data=True):\n",
    "            if not b in context_G.nodes():\n",
    "                new_nodes.append((b, data))\n",
    "        B.add_nodes_from(new_nodes)\n",
    "        for u, v, data in biochem_graph.edges(data=True):\n",
    "            # if (u in context_G.nodes()) or (v in context_G.nodes()):\n",
    "            new_edges.append((u, v, data))\n",
    "        B.add_edges_from(new_edges)\n",
    "        B.number_of_nodes(), B.number_of_edges()\n",
    "        nx.set_node_attributes(B, {v:data for v, data in biochem_graph.nodes(data=True)})\n",
    "        _ = to_cytoscape(\n",
    "            B,\n",
    "            title=f\"{contrast} ({thr_type} -- {thr}) context+biochem\", \n",
    "            collection=collection, \n",
    "            relayout=False, \n",
    "            style=style,\n",
    "            layout_alg=\"force-directed\"\n",
    "        ) \n",
    "        time.sleep(5)\n",
    "        print()\n"
   ]
  },
  {
   "cell_type": "code",
   "execution_count": 15,
   "metadata": {},
   "outputs": [],
   "source": [
    "thr_type = 'density-minima'"
   ]
  },
  {
   "cell_type": "code",
   "execution_count": 16,
   "metadata": {},
   "outputs": [
    {
     "data": {
      "text/plain": [
       "{'apiVersion': 'v1',\n",
       " 'cytoscapeVersion': '3.10.2',\n",
       " 'automationAPIVersion': '1.9.0',\n",
       " 'py4cytoscapeVersion': '1.9.0'}"
      ]
     },
     "execution_count": 16,
     "metadata": {},
     "output_type": "execute_result"
    }
   ],
   "source": [
    "# Open cytoscape first!\n",
    "p4c.cytoscape_version_info()"
   ]
  },
  {
   "cell_type": "code",
   "execution_count": 17,
   "metadata": {},
   "outputs": [],
   "source": [
    "blank_session_file = base_dir / \"input\" / f\"biochem-net-basis.cys\" "
   ]
  },
  {
   "cell_type": "code",
   "execution_count": 18,
   "metadata": {},
   "outputs": [
    {
     "name": "stdout",
     "output_type": "stream",
     "text": [
      "Opening /home/cbleker/research/NIB/projects/ADAPT/pilot-networks/multiOmics-integration/_p_ADAPTOmics/_I_Desiree/_S_multiOmics/_A_multiOmics-differential-networks-Py/input/biochem-net-basis.cys...\n"
     ]
    }
   ],
   "source": [
    "session = p4c.session.open_session(file_location=str(blank_session_file.absolute()))"
   ]
  },
  {
   "cell_type": "code",
   "execution_count": 19,
   "metadata": {},
   "outputs": [],
   "source": [
    "# RUN TO IMPORT BIOCHEM KNOWLEDGE NETWORK\n",
    "# biochem_cy = to_cytoscape(biochem_graph, title=\"Biochem graph\", collection=\"Biochem graph\", \n",
    "#              relayout=False, copycat=None, layout_alg=\"force-directed\")"
   ]
  },
  {
   "cell_type": "code",
   "execution_count": 20,
   "metadata": {},
   "outputs": [
    {
     "name": "stdout",
     "output_type": "stream",
     "text": [
      "86, 2804  D-v-C    \t 86 2804\t--> 61, 108   \n",
      "86, 2800  H-v-C    \t 86 2800\t--> 19, 19   \n",
      "86, 2796  HD-v-C    \t 86 2796\t--> 41, 39   \n",
      "87, 2845  HD-v-H    \t 87 2845\t--> 32, 32   \n",
      "86, 2800  W-v-C    \t 86 2800\t--> 48, 74   \n"
     ]
    }
   ],
   "source": [
    "load_all_thresholded_networks()"
   ]
  },
  {
   "cell_type": "code",
   "execution_count": 21,
   "metadata": {},
   "outputs": [
    {
     "name": "stdout",
     "output_type": "stream",
     "text": [
      "This file has been overwritten.\n"
     ]
    },
    {
     "data": {
      "text/plain": [
       "{}"
      ]
     },
     "execution_count": 21,
     "metadata": {},
     "output_type": "execute_result"
    }
   ],
   "source": [
    "session_file = base_dir / \"output\" / f\"pilot-diablo-differential-networks.cys\" \n",
    "p4c.session.save_session(str(session_file.absolute()))"
   ]
  },
  {
   "cell_type": "code",
   "execution_count": null,
   "metadata": {},
   "outputs": [],
   "source": []
  },
  {
   "cell_type": "code",
   "execution_count": null,
   "metadata": {},
   "outputs": [],
   "source": []
  },
  {
   "cell_type": "code",
   "execution_count": null,
   "metadata": {},
   "outputs": [],
   "source": []
  },
  {
   "cell_type": "code",
   "execution_count": null,
   "metadata": {},
   "outputs": [],
   "source": []
  },
  {
   "cell_type": "code",
   "execution_count": null,
   "metadata": {},
   "outputs": [],
   "source": []
  }
 ],
 "metadata": {
  "kernelspec": {
   "display_name": "Python [conda env:python-env]",
   "language": "python",
   "name": "conda-env-python-env-py"
  },
  "language_info": {
   "codemirror_mode": {
    "name": "ipython",
    "version": 3
   },
   "file_extension": ".py",
   "mimetype": "text/x-python",
   "name": "python",
   "nbconvert_exporter": "python",
   "pygments_lexer": "ipython3",
   "version": "3.10.13"
  },
  "toc": {
   "base_numbering": 1,
   "nav_menu": {},
   "number_sections": true,
   "sideBar": true,
   "skip_h1_title": false,
   "title_cell": "Table of Contents",
   "title_sidebar": "Contents",
   "toc_cell": true,
   "toc_position": {
    "height": "calc(100% - 180px)",
    "left": "10px",
    "top": "150px",
    "width": "214.94px"
   },
   "toc_section_display": true,
   "toc_window_display": true
  }
 },
 "nbformat": 4,
 "nbformat_minor": 4
}
